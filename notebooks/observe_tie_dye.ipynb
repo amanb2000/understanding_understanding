{
 "cells": [
  {
   "cell_type": "markdown",
   "metadata": {},
   "source": [
    "# Observing the Tie Dye Property\n",
    "\n",
    "Generate representations on math dataset: \n",
    "\n",
    "```bash\n",
    "python3 compute_minute_math_reps.py --output_dir results/tst2\n",
    "python3 compute_minute_math_reps.py --output_dir results/tst3 --num_unique_problems 500\n",
    "```\n",
    "\n",
    "Now `results/tst` has the following files: \n",
    "```\n",
    "answers.npy\n",
    "args.json\n",
    "internal_reps.pt\n",
    "logits.pt\n",
    "problems.npy\n",
    "```\n",
    "\n",
    "Let's start by loading these in. `answers` is just a list of list of ints, so it \n",
    "`problems`. `internal_reps.pt` is a list of tuples of tuples of tensors. `logits` \n",
    "is a list of tensors. "
   ]
  },
  {
   "cell_type": "code",
   "execution_count": 16,
   "metadata": {},
   "outputs": [],
   "source": [
    "import numpy as np\n",
    "import torch\n",
    "import json\n",
    "import os\n",
    "import matplotlib.pyplot as plt"
   ]
  },
  {
   "cell_type": "code",
   "execution_count": 2,
   "metadata": {},
   "outputs": [],
   "source": [
    "# Define the directory containing the results\n",
    "output_dir = '../results/tst3'"
   ]
  },
  {
   "cell_type": "markdown",
   "metadata": {},
   "source": [
    "## Purity Functions"
   ]
  },
  {
   "cell_type": "code",
   "execution_count": 3,
   "metadata": {},
   "outputs": [],
   "source": [
    "import torch\n",
    "import torch.nn.functional as F\n",
    "\n",
    "def calculate_purity(tensors, class_ids):\n",
    "    \"\"\"\n",
    "    tensors: [batch, num_tokens, d_model] -- a given layer's internal reps\n",
    "    class_ids: tensor of shape [batch] -- the answers for each problem\n",
    "    \"\"\"\n",
    "    # Flatten the tensors along the num_tokens dimension\n",
    "    tensors = tensors.view(tensors.size(0), -1)  # Shape: (Batch, num_tokens * d_model)\n",
    "\n",
    "    # Normalize the vectors (ensuring we're working with unit vectors)\n",
    "    tensors = F.normalize(tensors, p=2, dim=1)\n",
    "\n",
    "    # Compute the cosine similarity matrix\n",
    "    similarity_matrix = torch.mm(tensors, tensors.t())  # Shape: (Batch, Batch)\n",
    "\n",
    "    # Transform similarity matrix from [-1, 1] to [0, 2]\n",
    "    similarity_matrix = similarity_matrix + 1\n",
    "\n",
    "    # Mask to exclude self-comparisons\n",
    "    eye_mask = torch.eye(similarity_matrix.size(0), dtype=torch.bool, device=similarity_matrix.device)\n",
    "\n",
    "    # Initialize masks for intra-class and inter-class similarities\n",
    "    intra_class_mask = torch.zeros_like(similarity_matrix, dtype=torch.bool)\n",
    "    inter_class_mask = torch.zeros_like(similarity_matrix, dtype=torch.bool)\n",
    "\n",
    "    for i in range(len(class_ids)):\n",
    "        for j in range(len(class_ids)):\n",
    "            if class_ids[i] == class_ids[j]:\n",
    "                intra_class_mask[i, j] = True\n",
    "            else:\n",
    "                inter_class_mask[i, j] = True\n",
    "\n",
    "    # Exclude diagonal (self-similarities)\n",
    "    intra_class_mask[eye_mask] = False\n",
    "\n",
    "    # Calculate average similarities\n",
    "    if intra_class_mask.any():\n",
    "        intra_class_similarity = similarity_matrix[intra_class_mask].mean()\n",
    "    else:\n",
    "        intra_class_similarity = torch.tensor(0.0)\n",
    "\n",
    "    if inter_class_mask.any():\n",
    "        inter_class_similarity = similarity_matrix[inter_class_mask].mean()\n",
    "    else:\n",
    "        inter_class_similarity = torch.tensor(0.0)\n",
    "\n",
    "    # Handle cases where inter-class similarity is zero to avoid division by zero\n",
    "    if inter_class_similarity == 0:\n",
    "        purity_score = torch.tensor(float('inf'))  # Consider infinite purity if there is no inter-class similarity\n",
    "    else:\n",
    "        purity_score = intra_class_similarity / inter_class_similarity\n",
    "\n",
    "    return purity_score.item()"
   ]
  },
  {
   "cell_type": "markdown",
   "metadata": {},
   "source": [
    "## Load Data"
   ]
  },
  {
   "cell_type": "code",
   "execution_count": 4,
   "metadata": {},
   "outputs": [
    {
     "name": "stderr",
     "output_type": "stream",
     "text": [
      "/home/user/understanding_understanding/venv/lib/python3.10/site-packages/torch/cuda/__init__.py:619: UserWarning: Can't initialize NVML\n",
      "  warnings.warn(\"Can't initialize NVML\")\n"
     ]
    },
    {
     "name": "stdout",
     "output_type": "stream",
     "text": [
      "Answers shape: (99, 1)\n",
      "Problems shape: (99, 7)\n",
      "Internal Reps type: <class 'list'>\n",
      "Internal Reps length: 99\n",
      "Logits type: <class 'torch.Tensor'>\n",
      "Logits length: 99\n",
      "Example internal representation shape: torch.Size([7, 4096])\n",
      "Example logits shape: torch.Size([7, 128256])\n",
      "\n",
      "Example answers: [868]\n",
      "\n",
      "Example problems: [128000    806    489    220     19    284    220]\n",
      "\n",
      "Example internal representation: tensor([[-8.2970e-05,  2.5749e-04, -2.4605e-04,  ..., -3.2425e-04,\n",
      "         -2.1553e-04,  4.7112e-04],\n",
      "        [-1.2329e-02,  4.6997e-03,  5.7678e-03,  ...,  1.0803e-02,\n",
      "          1.3306e-02, -2.1210e-03],\n",
      "        [ 1.1749e-03, -8.8501e-03,  1.6708e-03,  ..., -1.1673e-03,\n",
      "         -2.6398e-03,  1.2329e-02],\n",
      "        ...,\n",
      "        [ 1.3199e-03,  4.6997e-03,  6.0425e-03,  ...,  1.1169e-02,\n",
      "         -3.4943e-03, -5.6458e-03],\n",
      "        [ 1.0376e-03, -6.8054e-03,  6.2943e-04,  ...,  2.5482e-03,\n",
      "         -8.3618e-03, -8.8501e-03],\n",
      "        [-6.3324e-04,  1.0395e-04,  1.6327e-03,  ..., -1.9684e-03,\n",
      "          7.7057e-04, -1.6479e-03]], device='cuda:0')\n",
      "\n",
      "Example logits: tensor([[ 4.8914,  6.0422, 10.7782,  ..., -3.6068, -3.6067, -3.6066],\n",
      "        [ 4.3632,  8.2084,  5.3457,  ..., -6.4111, -6.4114, -6.4115],\n",
      "        [ 2.2364,  1.3829,  0.5319,  ..., -8.5048, -8.5047, -8.5047],\n",
      "        ...,\n",
      "        [ 5.8957,  5.3324,  4.3343,  ..., -7.7181, -7.7180, -7.7181],\n",
      "        [ 1.0815,  2.7610,  2.6178,  ..., -2.4802, -2.4797, -2.4798],\n",
      "        [-1.6606, -7.9596, -1.9308,  ..., -3.9550, -3.9548, -3.9549]])\n"
     ]
    }
   ],
   "source": [
    "# Load the answers and problems files\n",
    "answers = np.load(os.path.join(output_dir, 'answers.npy'))\n",
    "problems = np.load(os.path.join(output_dir, 'problems.npy'))\n",
    "\n",
    "# Load the internal representations and logits\n",
    "internal_reps = torch.load(os.path.join(output_dir, 'internal_reps.pt'))\n",
    "logits = torch.load(os.path.join(output_dir, 'logits.pt'))\n",
    "\n",
    "# Load the arguments\n",
    "with open(os.path.join(output_dir, 'args.json'), 'r') as f:\n",
    "    args = json.load(f)\n",
    "\n",
    "# Display the shapes and types of the loaded data\n",
    "print(\"Answers shape:\", answers.shape)\n",
    "print(\"Problems shape:\", problems.shape)\n",
    "print(\"Internal Reps type:\", type(internal_reps))\n",
    "print(\"Internal Reps length:\", len(internal_reps))\n",
    "print(\"Logits type:\", type(logits))\n",
    "print(\"Logits length:\", len(logits))\n",
    "\n",
    "# Let's inspect the internal representations and logits a bit more closely\n",
    "print(\"Example internal representation shape:\", internal_reps[0][0][0].shape)\n",
    "print(\"Example logits shape:\", logits[0].shape)\n",
    "\n",
    "# Display some examples from the loaded data\n",
    "print(\"\\nExample answers:\", answers[0])\n",
    "print(\"\\nExample problems:\", problems[0])\n",
    "print(\"\\nExample internal representation:\", internal_reps[0][0][0])\n",
    "print(\"\\nExample logits:\", logits[0])"
   ]
  },
  {
   "cell_type": "markdown",
   "metadata": {},
   "source": [
    "## Munge Data\n",
    "\n",
    "`internal_reps` has shape "
   ]
  },
  {
   "cell_type": "code",
   "execution_count": 5,
   "metadata": {},
   "outputs": [
    {
     "data": {
      "text/plain": [
       "torch.Size([99])"
      ]
     },
     "execution_count": 5,
     "metadata": {},
     "output_type": "execute_result"
    }
   ],
   "source": [
    "class_ids = torch.tensor(answers[:, 0])\n",
    "class_ids.shape"
   ]
  },
  {
   "cell_type": "code",
   "execution_count": 6,
   "metadata": {},
   "outputs": [],
   "source": [
    "def get_layer_activations(internal_reps, layer_idx):\n",
    "    \"\"\"\n",
    "    Get the activations of a specific layer for all problems and all examples.\n",
    "\n",
    "    internal_reps: list[tuple[tensor]] where internal_reps[question_num][layer_num]\n",
    "     is a tensor of shape [batch=1, num_tokens, d_model=4096]\n",
    "\n",
    "    We will return a tensor of shape [num_questions, num_tokens, d_model=4096]\n",
    "    for the given layer\n",
    "    \"\"\"\n",
    "    return torch.cat([internal_reps[i][layer_idx] for i in range(len(internal_reps))])\n"
   ]
  },
  {
   "cell_type": "code",
   "execution_count": 7,
   "metadata": {},
   "outputs": [
    {
     "name": "stdout",
     "output_type": "stream",
     "text": [
      "Layer 0 purity: 0.9984232187271118\n",
      "Layer 1 purity: 0.9998812079429626\n",
      "Layer 2 purity: 0.9999997019767761\n",
      "Layer 3 purity: 0.9999997019767761\n",
      "Layer 4 purity: 0.9999993443489075\n",
      "Layer 5 purity: 0.9999991655349731\n",
      "Layer 6 purity: 0.9999991655349731\n",
      "Layer 7 purity: 0.9999989867210388\n",
      "Layer 8 purity: 0.9999987483024597\n",
      "Layer 9 purity: 0.9999985098838806\n",
      "Layer 10 purity: 0.9999982714653015\n",
      "Layer 11 purity: 0.9999980926513672\n",
      "Layer 12 purity: 0.999998152256012\n",
      "Layer 13 purity: 0.9999979138374329\n",
      "Layer 14 purity: 0.9999975562095642\n",
      "Layer 15 purity: 0.9999971389770508\n",
      "Layer 16 purity: 0.9999959468841553\n",
      "Layer 17 purity: 0.9999961256980896\n",
      "Layer 18 purity: 0.9999991655349731\n",
      "Layer 19 purity: 1.0000122785568237\n",
      "Layer 20 purity: 1.0000196695327759\n",
      "Layer 21 purity: 1.0000355243682861\n",
      "Layer 22 purity: 1.0000566244125366\n",
      "Layer 23 purity: 1.0000678300857544\n",
      "Layer 24 purity: 1.0000931024551392\n",
      "Layer 25 purity: 1.0001411437988281\n",
      "Layer 26 purity: 1.000197410583496\n",
      "Layer 27 purity: 1.0002319812774658\n",
      "Layer 28 purity: 1.0002555847167969\n",
      "Layer 29 purity: 1.00038743019104\n",
      "Layer 30 purity: 1.000548005104065\n",
      "Layer 31 purity: 1.000679612159729\n",
      "Layer 32 purity: 1.003298282623291\n"
     ]
    }
   ],
   "source": [
    "# iterate through each layer\n",
    "num_layers = 33\n",
    "purity_by_layer = []\n",
    "for layer_num in range(num_layers):\n",
    "    layer_activations = get_layer_activations(internal_reps, layer_num)\n",
    "    purity = calculate_purity(layer_activations, torch.tensor(answers))\n",
    "    print(f\"Layer {layer_num} purity: {purity}\")\n",
    "    purity_by_layer.append(purity)"
   ]
  },
  {
   "cell_type": "code",
   "execution_count": 15,
   "metadata": {},
   "outputs": [
    {
     "data": {
      "text/plain": [
       "Text(0, 0.5, 'Purity')"
      ]
     },
     "execution_count": 15,
     "metadata": {},
     "output_type": "execute_result"
    },
    {
     "data": {
      "image/png": "[encoded data removed]",
      "text/plain": [
       "<Figure size 640x480 with 1 Axes>"
      ]
     },
     "metadata": {},
     "output_type": "display_data"
    }
   ],
   "source": [
    "plt.plot(purity_by_layer)\n",
    "plt.xlabel('Layer')\n",
    "plt.ylabel('Purity')"
   ]
  },
  {
   "cell_type": "markdown",
   "metadata": {},
   "source": [
    "## Check if it's getting the answers right"
   ]
  },
  {
   "cell_type": "code",
   "execution_count": 9,
   "metadata": {},
   "outputs": [
    {
     "name": "stderr",
     "output_type": "stream",
     "text": [
      "/home/user/understanding_understanding/venv/lib/python3.10/site-packages/tqdm/auto.py:21: TqdmWarning: IProgress not found. Please update jupyter and ipywidgets. See https://ipywidgets.readthedocs.io/en/stable/user_install.html\n",
      "  from .autonotebook import tqdm as notebook_tqdm\n",
      "Special tokens have been added in the vocabulary, make sure the associated word embeddings are fine-tuned or trained.\n"
     ]
    }
   ],
   "source": [
    "from transformers import AutoTokenizer, AutoModelForCausalLM\n",
    "\n",
    "tokenizer = AutoTokenizer.from_pretrained(args['model_name'])"
   ]
  },
  {
   "cell_type": "code",
   "execution_count": 10,
   "metadata": {},
   "outputs": [
    {
     "data": {
      "text/plain": [
       "['15',\n",
       " '16',\n",
       " '17',\n",
       " '18',\n",
       " '19',\n",
       " '20',\n",
       " '21',\n",
       " '22',\n",
       " '23',\n",
       " '24',\n",
       " '25',\n",
       " '15',\n",
       " '16',\n",
       " '17',\n",
       " '18',\n",
       " '19',\n",
       " '20',\n",
       " '21',\n",
       " '22',\n",
       " '23',\n",
       " '24',\n",
       " '25',\n",
       " '15',\n",
       " '16',\n",
       " '17',\n",
       " '18',\n",
       " '19',\n",
       " '20',\n",
       " '21',\n",
       " '22',\n",
       " '23',\n",
       " '24',\n",
       " '25',\n",
       " '15',\n",
       " '16',\n",
       " '17',\n",
       " '18',\n",
       " '19',\n",
       " '20',\n",
       " '21',\n",
       " '22',\n",
       " '23',\n",
       " '24',\n",
       " '25',\n",
       " '15',\n",
       " '16',\n",
       " '17',\n",
       " '18',\n",
       " '19',\n",
       " '20',\n",
       " '21',\n",
       " '22',\n",
       " '23',\n",
       " '24',\n",
       " '25',\n",
       " '15',\n",
       " '16',\n",
       " '17',\n",
       " '18',\n",
       " '19',\n",
       " '20',\n",
       " '21',\n",
       " '22',\n",
       " '23',\n",
       " '24',\n",
       " '25',\n",
       " '15',\n",
       " '16',\n",
       " '17',\n",
       " '18',\n",
       " '19',\n",
       " '20',\n",
       " '21',\n",
       " '22',\n",
       " '23',\n",
       " '24',\n",
       " '15',\n",
       " '16',\n",
       " '17',\n",
       " '18',\n",
       " '19',\n",
       " '20',\n",
       " '21',\n",
       " '22',\n",
       " '23',\n",
       " '24',\n",
       " '25',\n",
       " '15',\n",
       " '16',\n",
       " '17',\n",
       " '18',\n",
       " '19',\n",
       " '20',\n",
       " '21',\n",
       " '22',\n",
       " '23',\n",
       " '24',\n",
       " '25',\n",
       " '15']"
      ]
     },
     "execution_count": 10,
     "metadata": {},
     "output_type": "execute_result"
    }
   ],
   "source": [
    "# find the argmax over the logits for each \n",
    "# problem to get the predicted class\n",
    "\n",
    "# logits has shape [num_questions, num_tokens, vocab_size]\n",
    "\n",
    "final_logits = logits[:, -1, :]\n",
    "\n",
    "# take the argmax over the final dim\n",
    "predicted_class = torch.argmax(final_logits, dim=1)\n",
    "\n",
    "# decode each prediction individually\n",
    "predicted_class_str = [tokenizer.decode(i) for i in predicted_class]\n",
    "predicted_class_str"
   ]
  },
  {
   "cell_type": "code",
   "execution_count": 14,
   "metadata": {},
   "outputs": [
    {
     "data": {
      "text/plain": [
       "1.0"
      ]
     },
     "execution_count": 14,
     "metadata": {},
     "output_type": "execute_result"
    }
   ],
   "source": [
    "str_answers = [tokenizer.decode(i) for i in answers[:, 0]]\n",
    "\n",
    "num_correct = 0\n",
    "for i in range(len(str_answers)):\n",
    "    if str_answers[i] == predicted_class_str[i]:\n",
    "        num_correct += 1\n",
    "\n",
    "num_correct / len(str_answers)"
   ]
  },
  {
   "cell_type": "code",
   "execution_count": null,
   "metadata": {},
   "outputs": [],
   "source": []
  }
 ],
 "metadata": {
  "kernelspec": {
   "display_name": "venv",
   "language": "python",
   "name": "python3"
  },
  "language_info": {
   "codemirror_mode": {
    "name": "ipython",
    "version": 3
   },
   "file_extension": ".py",
   "mimetype": "text/x-python",
   "name": "python",
   "nbconvert_exporter": "python",
   "pygments_lexer": "ipython3",
   "version": "3.10.12"
  }
 },
 "nbformat": 4,
 "nbformat_minor": 2
}
