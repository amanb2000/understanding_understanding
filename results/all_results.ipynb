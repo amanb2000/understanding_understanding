{
 "cells": [
  {
   "cell_type": "markdown",
   "metadata": {},
   "source": [
    "# All Results\n"
   ]
  },
  {
   "cell_type": "code",
   "execution_count": 6,
   "metadata": {},
   "outputs": [
    {
     "name": "stderr",
     "output_type": "stream",
     "text": [
      "/home/user/understanding_understanding/venv/lib/python3.10/site-packages/tqdm/auto.py:21: TqdmWarning: IProgress not found. Please update jupyter and ipywidgets. See https://ipywidgets.readthedocs.io/en/stable/user_install.html\n",
      "  from .autonotebook import tqdm as notebook_tqdm\n"
     ]
    }
   ],
   "source": [
    "import numpy as np\n",
    "\n",
    "import umap\n",
    "\n",
    "import torch\n",
    "import json\n",
    "import os\n",
    "import matplotlib.pyplot as plt\n",
    "import torch\n",
    "import torch.nn.functional as F\n",
    "from sklearn.decomposition import PCA"
   ]
  },
  {
   "cell_type": "code",
   "execution_count": 7,
   "metadata": {},
   "outputs": [],
   "source": [
    "def get_layer_activations(internal_reps, layer_idx):\n",
    "    \"\"\"\n",
    "    Get the activations of a specific layer for all problems and all examples.\n",
    "\n",
    "    internal_reps: list[tuple[tensor]] where internal_reps[question_num][layer_num]\n",
    "     is a tensor of shape [batch=1, num_tokens, d_model=4096]\n",
    "\n",
    "    We will return a tensor of shape [num_questions, num_tokens, d_model=4096]\n",
    "    for the given layer\n",
    "    \"\"\"\n",
    "    return torch.cat([internal_reps[i][layer_idx] for i in range(len(internal_reps))])\n"
   ]
  },
  {
   "cell_type": "markdown",
   "metadata": {},
   "source": [
    "## x + y UMAP 20240709\n",
    "\n",
    "```bash\n",
    "python3 compute_minute_math_reps.py \\\n",
    "    --output_dir results/xyUMAP20240709 \\\n",
    "    --problem_type xy\n",
    "```"
   ]
  },
  {
   "cell_type": "code",
   "execution_count": 8,
   "metadata": {},
   "outputs": [],
   "source": [
    "# Define the directory containing the results\n",
    "results_dir = 'xyUMAP20240709'"
   ]
  },
  {
   "cell_type": "code",
   "execution_count": 9,
   "metadata": {},
   "outputs": [
    {
     "name": "stderr",
     "output_type": "stream",
     "text": [
      "/home/user/understanding_understanding/venv/lib/python3.10/site-packages/torch/cuda/__init__.py:619: UserWarning: Can't initialize NVML\n",
      "  warnings.warn(\"Can't initialize NVML\")\n"
     ]
    },
    {
     "name": "stdout",
     "output_type": "stream",
     "text": [
      "Answers shape: (100, 1)\n",
      "Problems shape: (100, 17)\n",
      "Internal Reps type: <class 'list'>\n",
      "Internal Reps length: 100\n",
      "Logits type: <class 'torch.Tensor'>\n",
      "Logits length: 100\n",
      "Example internal representation shape: torch.Size([17, 4096])\n",
      "Example logits shape: torch.Size([17, 128256])\n",
      "\n",
      "Example answers: [868]\n",
      "\n",
      "Example problems: [128000     87    284    220    975     11    379    284    220     16\n",
      "     26   9093    865    489    379    284    220]\n",
      "\n",
      "Example internal representation: tensor([[-8.2970e-05,  2.5749e-04, -2.4605e-04,  ..., -3.2425e-04,\n",
      "         -2.1553e-04,  4.7112e-04],\n",
      "        [-2.0752e-03, -1.4038e-03,  6.1035e-03,  ...,  2.2888e-03,\n",
      "          6.1951e-03,  1.1414e-02],\n",
      "        [ 1.0376e-03, -6.8054e-03,  6.2943e-04,  ...,  2.5482e-03,\n",
      "         -8.3618e-03, -8.8501e-03],\n",
      "        ...,\n",
      "        [ 3.3569e-03, -3.3760e-04,  2.4719e-03,  ..., -8.3008e-03,\n",
      "          3.2654e-03, -7.3242e-03],\n",
      "        [ 1.0376e-03, -6.8054e-03,  6.2943e-04,  ...,  2.5482e-03,\n",
      "         -8.3618e-03, -8.8501e-03],\n",
      "        [-6.3324e-04,  1.0395e-04,  1.6327e-03,  ..., -1.9684e-03,\n",
      "          7.7057e-04, -1.6479e-03]], device='cuda:0')\n",
      "\n",
      "Example logits: tensor([[ 4.8914,  6.0422, 10.7781,  ..., -3.6068, -3.6067, -3.6066],\n",
      "        [ 5.0844,  5.5250,  5.3040,  ..., -4.7326, -4.7326, -4.7328],\n",
      "        [ 3.0377,  2.2906, -1.2401,  ..., -0.5274, -0.5273, -0.5272],\n",
      "        ...,\n",
      "        [ 9.4874,  4.8619,  4.0048,  ..., -4.2245, -4.2240, -4.2241],\n",
      "        [ 1.3391,  2.5658,  4.6113,  ...,  0.3663,  0.3670,  0.3670],\n",
      "        [ 1.9530, -3.4715,  3.2020,  ..., -2.8817, -2.8814, -2.8815]])\n"
     ]
    }
   ],
   "source": [
    "# Load the answers and problems files\n",
    "answers = np.load(os.path.join(results_dir, 'answers.npy'))\n",
    "problems = np.load(os.path.join(results_dir, 'problems.npy'))\n",
    "\n",
    "# Load the internal representations and logits\n",
    "internal_reps = torch.load(os.path.join(results_dir, 'internal_reps.pt'))\n",
    "logits = torch.load(os.path.join(results_dir, 'logits.pt'))\n",
    "\n",
    "# Load the arguments\n",
    "with open(os.path.join(results_dir, 'args.json'), 'r') as f:\n",
    "    args = json.load(f)\n",
    "\n",
    "# Display the shapes and types of the loaded data\n",
    "print(\"Answers shape:\", answers.shape)\n",
    "print(\"Problems shape:\", problems.shape)\n",
    "print(\"Internal Reps type:\", type(internal_reps))\n",
    "print(\"Internal Reps length:\", len(internal_reps))\n",
    "print(\"Logits type:\", type(logits))\n",
    "print(\"Logits length:\", len(logits))\n",
    "\n",
    "# Let's inspect the internal representations and logits a bit more closely\n",
    "print(\"Example internal representation shape:\", internal_reps[0][0][0].shape)\n",
    "print(\"Example logits shape:\", logits[0].shape)\n",
    "\n",
    "# Display some examples from the loaded data\n",
    "print(\"\\nExample answers:\", answers[0])\n",
    "print(\"\\nExample problems:\", problems[0])\n",
    "print(\"\\nExample internal representation:\", internal_reps[0][0][0])\n",
    "print(\"\\nExample logits:\", logits[0])\n",
    "\n"
   ]
  },
  {
   "cell_type": "markdown",
   "metadata": {},
   "source": [
    "### Check correctness of model predictions"
   ]
  },
  {
   "cell_type": "code",
   "execution_count": 10,
   "metadata": {},
   "outputs": [
    {
     "name": "stderr",
     "output_type": "stream",
     "text": [
      "Special tokens have been added in the vocabulary, make sure the associated word embeddings are fine-tuned or trained.\n"
     ]
    }
   ],
   "source": [
    "# compute the actual token-wise answers\n",
    "from transformers import AutoTokenizer, AutoModelForCausalLM\n",
    "\n",
    "tokenizer = AutoTokenizer.from_pretrained(args['model_name'])\n",
    "\n",
    "# find the argmax over the logits for each \n",
    "# problem to get the predicted class\n",
    "\n",
    "# logits has shape [num_questions, num_tokens, vocab_size]\n",
    "\n",
    "final_logits = logits[:, -1, :]\n",
    "\n",
    "# take the argmax over the final dim\n",
    "predicted_class = torch.argmax(final_logits, dim=1)\n",
    "\n",
    "# decode each prediction individually\n",
    "predicted_class_str = [tokenizer.decode(i) for i in predicted_class]"
   ]
  },
  {
   "cell_type": "code",
   "execution_count": 11,
   "metadata": {},
   "outputs": [
    {
     "data": {
      "text/plain": [
       "1.0"
      ]
     },
     "execution_count": 11,
     "metadata": {},
     "output_type": "execute_result"
    }
   ],
   "source": [
    "str_answers = [tokenizer.decode(i) for i in answers[:, 0]]\n",
    "\n",
    "str_problems = []\n",
    "for i in range(problems.shape[0]):\n",
    "    str_problems.append(tokenizer.decode(problems[i, :]).replace('\\n', ' '))\n",
    "\n",
    "num_correct = 0\n",
    "for i in range(len(str_answers)):\n",
    "    if str_answers[i] == predicted_class_str[i]:\n",
    "        num_correct += 1\n",
    "\n",
    "num_correct / len(str_answers)"
   ]
  },
  {
   "cell_type": "code",
   "execution_count": 12,
   "metadata": {},
   "outputs": [
    {
     "data": {
      "text/plain": [
       "['<|begin_of_text|>x = 14, y = 1; therefore x + y = ',\n",
       " '<|begin_of_text|>x = 7, y = 9; therefore x + y = ',\n",
       " '<|begin_of_text|>x = 7, y = 10; therefore x + y = ',\n",
       " '<|begin_of_text|>x = 7, y = 11; therefore x + y = ',\n",
       " '<|begin_of_text|>x = 13, y = 6; therefore x + y = ',\n",
       " '<|begin_of_text|>x = 13, y = 7; therefore x + y = ',\n",
       " '<|begin_of_text|>x = 8, y = 13; therefore x + y = ',\n",
       " '<|begin_of_text|>x = 8, y = 14; therefore x + y = ',\n",
       " '<|begin_of_text|>x = 6, y = 17; therefore x + y = ',\n",
       " '<|begin_of_text|>x = 4, y = 20; therefore x + y = ',\n",
       " '<|begin_of_text|>x = 6, y = 19; therefore x + y = ',\n",
       " '<|begin_of_text|>x = 4, y = 11; therefore x + y = ',\n",
       " '<|begin_of_text|>x = 7, y = 9; therefore x + y = ',\n",
       " '<|begin_of_text|>x = 7, y = 10; therefore x + y = ',\n",
       " '<|begin_of_text|>x = 6, y = 12; therefore x + y = ',\n",
       " '<|begin_of_text|>x = 6, y = 13; therefore x + y = ',\n",
       " '<|begin_of_text|>x = 20, y = 0; therefore x + y = ',\n",
       " '<|begin_of_text|>x = 1, y = 20; therefore x + y = ',\n",
       " '<|begin_of_text|>x = 7, y = 15; therefore x + y = ',\n",
       " '<|begin_of_text|>x = 16, y = 7; therefore x + y = ',\n",
       " '<|begin_of_text|>x = 10, y = 14; therefore x + y = ',\n",
       " '<|begin_of_text|>x = 4, y = 21; therefore x + y = ',\n",
       " '<|begin_of_text|>x = 9, y = 6; therefore x + y = ',\n",
       " '<|begin_of_text|>x = 2, y = 14; therefore x + y = ',\n",
       " '<|begin_of_text|>x = 12, y = 5; therefore x + y = ',\n",
       " '<|begin_of_text|>x = 12, y = 6; therefore x + y = ',\n",
       " '<|begin_of_text|>x = 8, y = 11; therefore x + y = ',\n",
       " '<|begin_of_text|>x = 20, y = 0; therefore x + y = ',\n",
       " '<|begin_of_text|>x = 17, y = 4; therefore x + y = ',\n",
       " '<|begin_of_text|>x = 1, y = 21; therefore x + y = ',\n",
       " '<|begin_of_text|>x = 9, y = 14; therefore x + y = ',\n",
       " '<|begin_of_text|>x = 9, y = 15; therefore x + y = ',\n",
       " '<|begin_of_text|>x = 11, y = 14; therefore x + y = ',\n",
       " '<|begin_of_text|>x = 6, y = 9; therefore x + y = ',\n",
       " '<|begin_of_text|>x = 8, y = 8; therefore x + y = ',\n",
       " '<|begin_of_text|>x = 10, y = 7; therefore x + y = ',\n",
       " '<|begin_of_text|>x = 18, y = 0; therefore x + y = ',\n",
       " '<|begin_of_text|>x = 13, y = 6; therefore x + y = ',\n",
       " '<|begin_of_text|>x = 2, y = 18; therefore x + y = ',\n",
       " '<|begin_of_text|>x = 2, y = 19; therefore x + y = ',\n",
       " '<|begin_of_text|>x = 6, y = 16; therefore x + y = ',\n",
       " '<|begin_of_text|>x = 7, y = 16; therefore x + y = ',\n",
       " '<|begin_of_text|>x = 2, y = 22; therefore x + y = ',\n",
       " '<|begin_of_text|>x = 21, y = 4; therefore x + y = ',\n",
       " '<|begin_of_text|>x = 6, y = 9; therefore x + y = ',\n",
       " '<|begin_of_text|>x = 10, y = 6; therefore x + y = ',\n",
       " '<|begin_of_text|>x = 11, y = 6; therefore x + y = ',\n",
       " '<|begin_of_text|>x = 17, y = 1; therefore x + y = ',\n",
       " '<|begin_of_text|>x = 18, y = 1; therefore x + y = ',\n",
       " '<|begin_of_text|>x = 17, y = 3; therefore x + y = ',\n",
       " '<|begin_of_text|>x = 4, y = 17; therefore x + y = ',\n",
       " '<|begin_of_text|>x = 11, y = 11; therefore x + y = ',\n",
       " '<|begin_of_text|>x = 1, y = 22; therefore x + y = ',\n",
       " '<|begin_of_text|>x = 19, y = 5; therefore x + y = ',\n",
       " '<|begin_of_text|>x = 17, y = 8; therefore x + y = ',\n",
       " '<|begin_of_text|>x = 11, y = 4; therefore x + y = ',\n",
       " '<|begin_of_text|>x = 0, y = 16; therefore x + y = ',\n",
       " '<|begin_of_text|>x = 0, y = 17; therefore x + y = ',\n",
       " '<|begin_of_text|>x = 9, y = 9; therefore x + y = ',\n",
       " '<|begin_of_text|>x = 0, y = 19; therefore x + y = ',\n",
       " '<|begin_of_text|>x = 18, y = 2; therefore x + y = ',\n",
       " '<|begin_of_text|>x = 7, y = 14; therefore x + y = ',\n",
       " '<|begin_of_text|>x = 9, y = 13; therefore x + y = ',\n",
       " '<|begin_of_text|>x = 12, y = 11; therefore x + y = ',\n",
       " '<|begin_of_text|>x = 21, y = 3; therefore x + y = ',\n",
       " '<|begin_of_text|>x = 4, y = 21; therefore x + y = ',\n",
       " '<|begin_of_text|>x = 14, y = 1; therefore x + y = ',\n",
       " '<|begin_of_text|>x = 1, y = 15; therefore x + y = ',\n",
       " '<|begin_of_text|>x = 4, y = 13; therefore x + y = ',\n",
       " '<|begin_of_text|>x = 2, y = 16; therefore x + y = ',\n",
       " '<|begin_of_text|>x = 18, y = 1; therefore x + y = ',\n",
       " '<|begin_of_text|>x = 15, y = 5; therefore x + y = ',\n",
       " '<|begin_of_text|>x = 4, y = 17; therefore x + y = ',\n",
       " '<|begin_of_text|>x = 9, y = 13; therefore x + y = ',\n",
       " '<|begin_of_text|>x = 2, y = 21; therefore x + y = ',\n",
       " '<|begin_of_text|>x = 2, y = 22; therefore x + y = ',\n",
       " '<|begin_of_text|>x = 23, y = 2; therefore x + y = ',\n",
       " '<|begin_of_text|>x = -1, y = 16; therefore x + y = ',\n",
       " '<|begin_of_text|>x = 15, y = 1; therefore x + y = ',\n",
       " '<|begin_of_text|>x = 17, y = 0; therefore x + y = ',\n",
       " '<|begin_of_text|>x = 7, y = 11; therefore x + y = ',\n",
       " '<|begin_of_text|>x = 18, y = 1; therefore x + y = ',\n",
       " '<|begin_of_text|>x = 2, y = 18; therefore x + y = ',\n",
       " '<|begin_of_text|>x = 22, y = -1; therefore x + y = ',\n",
       " '<|begin_of_text|>x = 6, y = 16; therefore x + y = ',\n",
       " '<|begin_of_text|>x = 18, y = 5; therefore x + y = ',\n",
       " '<|begin_of_text|>x = 23, y = 1; therefore x + y = ',\n",
       " '<|begin_of_text|>x = 25, y = 0; therefore x + y = ',\n",
       " '<|begin_of_text|>x = 15, y = 0; therefore x + y = ',\n",
       " '<|begin_of_text|>x = 2, y = 14; therefore x + y = ',\n",
       " '<|begin_of_text|>x = 15, y = 2; therefore x + y = ',\n",
       " '<|begin_of_text|>x = 19, y = -1; therefore x + y = ',\n",
       " '<|begin_of_text|>x = 11, y = 8; therefore x + y = ',\n",
       " '<|begin_of_text|>x = 12, y = 8; therefore x + y = ',\n",
       " '<|begin_of_text|>x = 16, y = 5; therefore x + y = ',\n",
       " '<|begin_of_text|>x = 10, y = 12; therefore x + y = ',\n",
       " '<|begin_of_text|>x = 2, y = 21; therefore x + y = ',\n",
       " '<|begin_of_text|>x = 2, y = 22; therefore x + y = ',\n",
       " '<|begin_of_text|>x = 12, y = 13; therefore x + y = ',\n",
       " '<|begin_of_text|>x = 3, y = 12; therefore x + y = ']"
      ]
     },
     "execution_count": 12,
     "metadata": {},
     "output_type": "execute_result"
    }
   ],
   "source": [
    "str_problems"
   ]
  },
  {
   "cell_type": "code",
   "execution_count": 13,
   "metadata": {},
   "outputs": [],
   "source": [
    "# make a set of integer-valued answers\n",
    "int_answers = [int(a) for a in str_answers]"
   ]
  },
  {
   "cell_type": "code",
   "execution_count": 14,
   "metadata": {},
   "outputs": [
    {
     "data": {
      "text/plain": [
       "torch.Size([100])"
      ]
     },
     "execution_count": 14,
     "metadata": {},
     "output_type": "execute_result"
    }
   ],
   "source": [
    "class_ids = torch.tensor(answers[:, 0])\n",
    "class_ids.shape"
   ]
  },
  {
   "cell_type": "code",
   "execution_count": null,
   "metadata": {},
   "outputs": [],
   "source": [
    "\n",
    "def get_umap(layer_reps, class_ids):\n",
    "    \"\"\" Compute the UMAP of layer_reps, which is a tensor of shape [num_examples, num_tokens, token_dim]\n",
    "    \"\"\"\n",
    "    print(\"Layer reps shape:\", layer_reps.shape)\n",
    "    print(\"Layer reps has type:\", type(layer_reps))\n",
    "\n",
    "    class_ids = class_ids.cpu()\n",
    "    layer_reps = layer_reps.cpu()\n",
    "    \n",
    "    # Convert to numpy if it's a torch tensor\n",
    "    if torch.is_tensor(layer_reps):\n",
    "        layer_reps = layer_reps.detach().cpu().numpy()\n",
    "    \n",
    "    # Flatten the last two dimensions\n",
    "    num_examples, num_tokens, token_dim = layer_reps.shape\n",
    "    flattened_reps = layer_reps.reshape(num_examples, num_tokens * token_dim)\n",
    "    \n",
    "    # Apply UMAP\n",
    "    reducer = umap.UMAP(random_state=42)\n",
    "    umap_embedding = reducer.fit_transform(flattened_reps)\n",
    "    # print(\"Output of reduce transform: \", umap_embedding)\n",
    "    \n",
    "    return umap_embedding\n",
    "\n",
    "def get_class_relevance_pca(layer_reps, class_ids):\n",
    "    \"\"\" Compute the PCA of layer_reps, which is a tensor of shape [num_examples, num_tokens, token_dim]\n",
    "    We are going to compute the PCA which maximizes the variance of class means\n",
    "    \"\"\"\n",
    "    flattened_reps = layer_reps.reshape(layer_reps.shape[0], -1).cpu()\n",
    "    \n",
    "    # Calculate class means efficiently\n",
    "    unique_classes = np.unique(class_ids)\n",
    "    print(\"flattened_reps type: \", type(flattened_reps))\n",
    "    print(\"flattened_reps device: \", flattened_reps.device)\n",
    "    print(\"class_ids type: \", type(class_ids))\n",
    "    print(\"class_ids device: \", class_ids.device)\n",
    "    class_means = np.array([flattened_reps[class_ids == c].mean(axis=0) for c in unique_classes])\n",
    "    \n",
    "    # Run PCA on the class means\n",
    "    pca = PCA()\n",
    "    pca.fit(class_means)\n",
    "    \n",
    "    # Project the original data onto the PCA components\n",
    "    projected_data = pca.transform(flattened_reps)\n",
    "    \n",
    "    return projected_data\n",
    "\n",
    "\n"
   ]
  },
  {
   "cell_type": "code",
   "execution_count": 28,
   "metadata": {},
   "outputs": [
    {
     "name": "stdout",
     "output_type": "stream",
     "text": [
      "flattened_reps type:  <class 'torch.Tensor'>\n",
      "flattened_reps device:  cuda:0\n",
      "class_ids type:  <class 'torch.Tensor'>\n",
      "class_ids device:  cpu\n"
     ]
    },
    {
     "ename": "TypeError",
     "evalue": "can't convert cuda:0 device type tensor to numpy. Use Tensor.cpu() to copy the tensor to host memory first.",
     "output_type": "error",
     "traceback": [
      "\u001b[0;31m---------------------------------------------------------------------------\u001b[0m",
      "\u001b[0;31mTypeError\u001b[0m                                 Traceback (most recent call last)",
      "Cell \u001b[0;32mIn[28], line 13\u001b[0m\n\u001b[1;32m     11\u001b[0m \u001b[38;5;28;01mfor\u001b[39;00m layer_num \u001b[38;5;129;01min\u001b[39;00m \u001b[38;5;28mrange\u001b[39m(num_layers):\n\u001b[1;32m     12\u001b[0m     layer_activations \u001b[38;5;241m=\u001b[39m get_layer_activations(internal_reps, layer_num)\n\u001b[0;32m---> 13\u001b[0m     low_dim_embedding \u001b[38;5;241m=\u001b[39m \u001b[43mdim_reduction_func\u001b[49m\u001b[43m(\u001b[49m\u001b[43mlayer_activations\u001b[49m\u001b[43m,\u001b[49m\u001b[43m \u001b[49m\u001b[43mclass_ids\u001b[49m\u001b[43m)\u001b[49m\n\u001b[1;32m     15\u001b[0m     \u001b[38;5;66;03m# Create Plotly figure\u001b[39;00m\n\u001b[1;32m     16\u001b[0m     fig \u001b[38;5;241m=\u001b[39m make_subplots(rows\u001b[38;5;241m=\u001b[39m\u001b[38;5;241m1\u001b[39m, cols\u001b[38;5;241m=\u001b[39m\u001b[38;5;241m1\u001b[39m)\n",
      "Cell \u001b[0;32mIn[27], line 37\u001b[0m, in \u001b[0;36mget_class_relevance_pca\u001b[0;34m(layer_reps, class_ids)\u001b[0m\n\u001b[1;32m     35\u001b[0m \u001b[38;5;28mprint\u001b[39m(\u001b[38;5;124m\"\u001b[39m\u001b[38;5;124mclass_ids type: \u001b[39m\u001b[38;5;124m\"\u001b[39m, \u001b[38;5;28mtype\u001b[39m(class_ids))\n\u001b[1;32m     36\u001b[0m \u001b[38;5;28mprint\u001b[39m(\u001b[38;5;124m\"\u001b[39m\u001b[38;5;124mclass_ids device: \u001b[39m\u001b[38;5;124m\"\u001b[39m, class_ids\u001b[38;5;241m.\u001b[39mdevice)\n\u001b[0;32m---> 37\u001b[0m class_means \u001b[38;5;241m=\u001b[39m \u001b[43mnp\u001b[49m\u001b[38;5;241;43m.\u001b[39;49m\u001b[43marray\u001b[49m\u001b[43m(\u001b[49m\u001b[43m[\u001b[49m\u001b[43mflattened_reps\u001b[49m\u001b[43m[\u001b[49m\u001b[43mclass_ids\u001b[49m\u001b[43m \u001b[49m\u001b[38;5;241;43m==\u001b[39;49m\u001b[43m \u001b[49m\u001b[43mc\u001b[49m\u001b[43m]\u001b[49m\u001b[38;5;241;43m.\u001b[39;49m\u001b[43mmean\u001b[49m\u001b[43m(\u001b[49m\u001b[43maxis\u001b[49m\u001b[38;5;241;43m=\u001b[39;49m\u001b[38;5;241;43m0\u001b[39;49m\u001b[43m)\u001b[49m\u001b[43m \u001b[49m\u001b[38;5;28;43;01mfor\u001b[39;49;00m\u001b[43m \u001b[49m\u001b[43mc\u001b[49m\u001b[43m \u001b[49m\u001b[38;5;129;43;01min\u001b[39;49;00m\u001b[43m \u001b[49m\u001b[43munique_classes\u001b[49m\u001b[43m]\u001b[49m\u001b[43m)\u001b[49m\n\u001b[1;32m     39\u001b[0m \u001b[38;5;66;03m# Run PCA on the class means\u001b[39;00m\n\u001b[1;32m     40\u001b[0m pca \u001b[38;5;241m=\u001b[39m PCA()\n",
      "File \u001b[0;32m~/understanding_understanding/venv/lib/python3.10/site-packages/torch/_tensor.py:1087\u001b[0m, in \u001b[0;36mTensor.__array__\u001b[0;34m(self, dtype)\u001b[0m\n\u001b[1;32m   1085\u001b[0m     \u001b[38;5;28;01mreturn\u001b[39;00m handle_torch_function(Tensor\u001b[38;5;241m.\u001b[39m__array__, (\u001b[38;5;28mself\u001b[39m,), \u001b[38;5;28mself\u001b[39m, dtype\u001b[38;5;241m=\u001b[39mdtype)\n\u001b[1;32m   1086\u001b[0m \u001b[38;5;28;01mif\u001b[39;00m dtype \u001b[38;5;129;01mis\u001b[39;00m \u001b[38;5;28;01mNone\u001b[39;00m:\n\u001b[0;32m-> 1087\u001b[0m     \u001b[38;5;28;01mreturn\u001b[39;00m \u001b[38;5;28;43mself\u001b[39;49m\u001b[38;5;241;43m.\u001b[39;49m\u001b[43mnumpy\u001b[49m\u001b[43m(\u001b[49m\u001b[43m)\u001b[49m\n\u001b[1;32m   1088\u001b[0m \u001b[38;5;28;01melse\u001b[39;00m:\n\u001b[1;32m   1089\u001b[0m     \u001b[38;5;28;01mreturn\u001b[39;00m \u001b[38;5;28mself\u001b[39m\u001b[38;5;241m.\u001b[39mnumpy()\u001b[38;5;241m.\u001b[39mastype(dtype, copy\u001b[38;5;241m=\u001b[39m\u001b[38;5;28;01mFalse\u001b[39;00m)\n",
      "\u001b[0;31mTypeError\u001b[0m: can't convert cuda:0 device type tensor to numpy. Use Tensor.cpu() to copy the tensor to host memory first."
     ]
    }
   ],
   "source": [
    "import plotly.graph_objects as go\n",
    "import plotly.io as pio\n",
    "from plotly.subplots import make_subplots\n",
    "\n",
    "dim_reduction_func = get_class_relevance_pca\n",
    "\n",
    "\n",
    "# iterate through each layer\n",
    "num_layers = 33\n",
    "purity_by_layer = []\n",
    "for layer_num in range(num_layers):\n",
    "    layer_activations = get_layer_activations(internal_reps, layer_num)\n",
    "    low_dim_embedding = dim_reduction_func(layer_activations, class_ids)\n",
    "    \n",
    "    # Create Plotly figure\n",
    "    fig = make_subplots(rows=1, cols=1)\n",
    "    \n",
    "    # Add scatter plot\n",
    "    scatter = go.Scatter(\n",
    "        x=low_dim_embedding[:, 0],\n",
    "        y=low_dim_embedding[:, 1],\n",
    "        mode='markers',\n",
    "        marker=dict(\n",
    "            size=8,\n",
    "            color=int_answers,\n",
    "            colorscale='Viridis',\n",
    "            showscale=True\n",
    "        ),\n",
    "        text=[f\"Problem: {prob}<br>Answer: {ans}<br>Predicted: {pred}\" \n",
    "              for prob, ans, pred in zip(str_problems, str_answers, predicted_class_str)],\n",
    "        hoverinfo='text'\n",
    "    )\n",
    "    \n",
    "    fig.add_trace(scatter)\n",
    "    \n",
    "    # Update layout\n",
    "    fig.update_layout(\n",
    "        title=f'{dim_reduction_func.__name__} for Layer {layer_num}',\n",
    "        xaxis_title='Dim 1',\n",
    "        yaxis_title='Dim 2',\n",
    "        width=1000,\n",
    "        height=800\n",
    "    )\n",
    "    \n",
    "    # Save as interactive HTML\n",
    "    pio.write_html(fig, file=f'{results_dir}/{dim_reduction_func.__name__}_layer_{layer_num}.html')\n",
    "    \n",
    "    # Save as static PNG\n",
    "    pio.write_image(fig, file=f'{results_dir}/{dim_reduction_func.__name__}_layer_{layer_num}.png')\n",
    "    \n",
    "    # Clear the figure to free up memory\n",
    "    fig.data = []\n",
    "    fig.layout = {}"
   ]
  },
  {
   "cell_type": "code",
   "execution_count": 26,
   "metadata": {},
   "outputs": [],
   "source": [
    "# # iterate through each layer\n",
    "# num_layers = 33\n",
    "# purity_by_layer = []\n",
    "# for layer_num in range(num_layers):\n",
    "#     layer_activations = get_layer_activations(internal_reps, layer_num)\n",
    "#     umap_embedding = get_umap(layer_activations)\n",
    "    \n",
    "#     # Plot UMAP\n",
    "#     plt.figure(figsize=(10, 8))\n",
    "#     scatter = plt.scatter(umap_embedding[:, 0], umap_embedding[:, 1], c=int_answers, cmap='viridis')\n",
    "#     plt.colorbar(scatter)\n",
    "#     plt.title(f'UMAP for Layer {layer_num}')\n",
    "#     plt.savefig(f'{results_dir}/umap_layer_{layer_num}.png')\n",
    "#     plt.close()\n",
    "    "
   ]
  },
  {
   "cell_type": "code",
   "execution_count": null,
   "metadata": {},
   "outputs": [
    {
     "data": {
      "text/plain": [
       "numpy.ndarray"
      ]
     },
     "execution_count": 13,
     "metadata": {},
     "output_type": "execute_result"
    }
   ],
   "source": [
    "type(answers)"
   ]
  },
  {
   "cell_type": "code",
   "execution_count": null,
   "metadata": {},
   "outputs": [],
   "source": []
  }
 ],
 "metadata": {
  "kernelspec": {
   "display_name": "venv",
   "language": "python",
   "name": "python3"
  },
  "language_info": {
   "codemirror_mode": {
    "name": "ipython",
    "version": 3
   },
   "file_extension": ".py",
   "mimetype": "text/x-python",
   "name": "python",
   "nbconvert_exporter": "python",
   "pygments_lexer": "ipython3",
   "version": "3.10.12"
  }
 },
 "nbformat": 4,
 "nbformat_minor": 2
}
