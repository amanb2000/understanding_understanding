{
 "cells": [
  {
   "cell_type": "markdown",
   "metadata": {},
   "source": [
    "# All Results\n"
   ]
  },
  {
   "cell_type": "code",
   "execution_count": 2,
   "metadata": {},
   "outputs": [],
   "source": [
    "import numpy as np\n",
    "\n",
    "import umap\n",
    "\n",
    "import torch\n",
    "import json\n",
    "import os\n",
    "import matplotlib.pyplot as plt\n",
    "import torch\n",
    "import torch.nn.functional as F\n",
    "from sklearn.decomposition import PCA"
   ]
  },
  {
   "cell_type": "code",
   "execution_count": 3,
   "metadata": {},
   "outputs": [],
   "source": [
    "def get_layer_activations(internal_reps, layer_idx):\n",
    "    \"\"\"\n",
    "    Get the activations of a specific layer for all problems and all examples.\n",
    "\n",
    "    internal_reps: list[tuple[tensor]] where internal_reps[question_num][layer_num]\n",
    "     is a tensor of shape [batch=1, num_tokens, d_model=4096]\n",
    "\n",
    "    We will return a tensor of shape [num_questions, num_tokens, d_model=4096]\n",
    "    for the given layer\n",
    "    \"\"\"\n",
    "    return torch.cat([internal_reps[i][layer_idx] for i in range(len(internal_reps))])\n"
   ]
  },
  {
   "cell_type": "markdown",
   "metadata": {},
   "source": [
    "## x + y UMAP 20240709\n",
    "\n",
    "```bash\n",
    "# 100 instances, 10 possible answers 15-20\n",
    "python3 compute_minute_math_reps.py \\\n",
    "    --output_dir results/xyUMAP20240709 \\\n",
    "    --problem_type xy\n",
    "\n",
    "# 10,000 instances, 10 possible answers 15-20\n",
    "python3 compute_minute_math_reps.py \\\n",
    "    --output_dir results/xy10kUMAP20240709 \\\n",
    "    --problem_type xy \\\n",
    "    --num_unique_problems 10000\n",
    "\n",
    "# 1,000 instances\n",
    "python3 compute_minute_math_reps.py \\\n",
    "    --output_dir results/xy1kUMAP20240709 \\\n",
    "    --problem_type xy \\\n",
    "    --num_unique_problems 1000\n",
    "\n",
    "\n",
    "```"
   ]
  },
  {
   "cell_type": "code",
   "execution_count": 4,
   "metadata": {},
   "outputs": [],
   "source": [
    "# Define the directory containing the results\n",
    "results_dir = 'xyUMAP20240709_cam'"
   ]
  },
  {
   "cell_type": "code",
   "execution_count": 5,
   "metadata": {},
   "outputs": [
    {
     "name": "stderr",
     "output_type": "stream",
     "text": [
      "/home/user/understanding_understanding/venv/lib/python3.8/site-packages/torch/cuda/__init__.py:619: UserWarning: Can't initialize NVML\n",
      "  warnings.warn(\"Can't initialize NVML\")\n"
     ]
    },
    {
     "name": "stdout",
     "output_type": "stream",
     "text": [
      "Answers shape: (100, 1)\n",
      "Problems shape: (100, 17)\n",
      "Internal Reps type: <class 'list'>\n",
      "Internal Reps length: 100\n",
      "Logits type: <class 'torch.Tensor'>\n",
      "Logits length: 100\n",
      "Example internal representation shape: torch.Size([17, 4096])\n",
      "Example logits shape: torch.Size([17, 128256])\n",
      "\n",
      "Example answers: [868]\n",
      "\n",
      "Example problems: [128000     87    284    220     22     11    379    284    220     23\n",
      "     26   9093    865    489    379    284    220]\n",
      "\n",
      "Example internal representation: tensor([[-8.2970e-05,  2.5749e-04, -2.4605e-04,  ..., -3.2425e-04,\n",
      "         -2.1553e-04,  4.7112e-04],\n",
      "        [-2.0752e-03, -1.4038e-03,  6.1035e-03,  ...,  2.2888e-03,\n",
      "          6.1951e-03,  1.1414e-02],\n",
      "        [ 1.0376e-03, -6.8054e-03,  6.2943e-04,  ...,  2.5482e-03,\n",
      "         -8.3618e-03, -8.8501e-03],\n",
      "        ...,\n",
      "        [ 3.3569e-03, -3.3760e-04,  2.4719e-03,  ..., -8.3008e-03,\n",
      "          3.2654e-03, -7.3242e-03],\n",
      "        [ 1.0376e-03, -6.8054e-03,  6.2943e-04,  ...,  2.5482e-03,\n",
      "         -8.3618e-03, -8.8501e-03],\n",
      "        [-6.3324e-04,  1.0395e-04,  1.6327e-03,  ..., -1.9684e-03,\n",
      "          7.7057e-04, -1.6479e-03]], device='cuda:0')\n",
      "\n",
      "Example logits: tensor([[ 4.8914,  6.0422, 10.7782,  ..., -3.6068, -3.6067, -3.6066],\n",
      "        [ 5.0844,  5.5250,  5.3040,  ..., -4.7326, -4.7326, -4.7328],\n",
      "        [ 3.0377,  2.2906, -1.2401,  ..., -0.5274, -0.5273, -0.5272],\n",
      "        ...,\n",
      "        [ 7.1848,  5.5690,  4.4517,  ..., -2.1464, -2.1458, -2.1460],\n",
      "        [ 0.2240,  2.4152,  3.9246,  ...,  0.2736,  0.2743,  0.2742],\n",
      "        [ 2.5393, -1.3449,  3.9985,  ..., -3.3005, -3.3003, -3.3004]])\n"
     ]
    }
   ],
   "source": [
    "# Load the answers and problems files\n",
    "answers = np.load(os.path.join(results_dir, 'answers.npy'))\n",
    "problems = np.load(os.path.join(results_dir, 'problems.npy'))\n",
    "\n",
    "# Load the internal representations and logits\n",
    "internal_reps = torch.load(os.path.join(results_dir, 'internal_reps.pt'))\n",
    "logits = torch.load(os.path.join(results_dir, 'logits.pt'))\n",
    "\n",
    "# Load the arguments\n",
    "with open(os.path.join(results_dir, 'args.json'), 'r') as f:\n",
    "    args = json.load(f)\n",
    "\n",
    "# Display the shapes and types of the loaded data\n",
    "print(\"Answers shape:\", answers.shape)\n",
    "print(\"Problems shape:\", problems.shape)\n",
    "print(\"Internal Reps type:\", type(internal_reps))\n",
    "print(\"Internal Reps length:\", len(internal_reps))\n",
    "print(\"Logits type:\", type(logits))\n",
    "print(\"Logits length:\", len(logits))\n",
    "\n",
    "# Let's inspect the internal representations and logits a bit more closely\n",
    "print(\"Example internal representation shape:\", internal_reps[0][0][0].shape)\n",
    "print(\"Example logits shape:\", logits[0].shape)\n",
    "\n",
    "# Display some examples from the loaded data\n",
    "print(\"\\nExample answers:\", answers[0])\n",
    "print(\"\\nExample problems:\", problems[0])\n",
    "print(\"\\nExample internal representation:\", internal_reps[0][0][0])\n",
    "print(\"\\nExample logits:\", logits[0])\n",
    "\n"
   ]
  },
  {
   "cell_type": "markdown",
   "metadata": {},
   "source": [
    "### Check correctness of model predictions"
   ]
  },
  {
   "cell_type": "code",
   "execution_count": 5,
   "metadata": {},
   "outputs": [
    {
     "name": "stderr",
     "output_type": "stream",
     "text": [
      "Special tokens have been added in the vocabulary, make sure the associated word embeddings are fine-tuned or trained.\n"
     ]
    }
   ],
   "source": [
    "# compute the actual token-wise answers\n",
    "from transformers import AutoTokenizer, AutoModelForCausalLM\n",
    "\n",
    "tokenizer = AutoTokenizer.from_pretrained(args['model_name'])\n",
    "\n",
    "# find the argmax over the logits for each \n",
    "# problem to get the predicted class\n",
    "\n",
    "# logits has shape [num_questions, num_tokens, vocab_size]\n",
    "\n",
    "final_logits = logits[:, -1, :]\n",
    "\n",
    "# take the argmax over the final dim\n",
    "predicted_class = torch.argmax(final_logits, dim=1)\n",
    "\n",
    "# decode each prediction individually\n",
    "predicted_class_str = [tokenizer.decode(i) for i in predicted_class]"
   ]
  },
  {
   "cell_type": "code",
   "execution_count": 6,
   "metadata": {},
   "outputs": [
    {
     "data": {
      "text/plain": [
       "1.0"
      ]
     },
     "execution_count": 6,
     "metadata": {},
     "output_type": "execute_result"
    }
   ],
   "source": [
    "str_answers = [tokenizer.decode(i) for i in answers[:, 0]]\n",
    "\n",
    "str_problems = []\n",
    "for i in range(problems.shape[0]):\n",
    "    str_problems.append(tokenizer.decode(problems[i, :]).replace('\\n', ' '))\n",
    "\n",
    "num_correct = 0\n",
    "for i in range(len(str_answers)):\n",
    "    if str_answers[i] == predicted_class_str[i]:\n",
    "        num_correct += 1\n",
    "\n",
    "num_correct / len(str_answers)"
   ]
  },
  {
   "cell_type": "code",
   "execution_count": 7,
   "metadata": {},
   "outputs": [
    {
     "data": {
      "text/plain": [
       "['<|begin_of_text|>x = 7, y = 8; therefore x + y = ',\n",
       " '<|begin_of_text|>x = 11, y = 5; therefore x + y = ',\n",
       " '<|begin_of_text|>x = 3, y = 14; therefore x + y = ',\n",
       " '<|begin_of_text|>x = 12, y = 6; therefore x + y = ',\n",
       " '<|begin_of_text|>x = 15, y = 4; therefore x + y = ',\n",
       " '<|begin_of_text|>x = 14, y = 6; therefore x + y = ',\n",
       " '<|begin_of_text|>x = 2, y = 19; therefore x + y = ',\n",
       " '<|begin_of_text|>x = 20, y = 2; therefore x + y = ',\n",
       " '<|begin_of_text|>x = 0, y = 23; therefore x + y = ',\n",
       " '<|begin_of_text|>x = 17, y = 7; therefore x + y = ',\n",
       " '<|begin_of_text|>x = 1, y = 24; therefore x + y = ',\n",
       " '<|begin_of_text|>x = 9, y = 6; therefore x + y = ',\n",
       " '<|begin_of_text|>x = 8, y = 8; therefore x + y = ',\n",
       " '<|begin_of_text|>x = 0, y = 17; therefore x + y = ',\n",
       " '<|begin_of_text|>x = 10, y = 8; therefore x + y = ',\n",
       " '<|begin_of_text|>x = 6, y = 13; therefore x + y = ',\n",
       " '<|begin_of_text|>x = 7, y = 13; therefore x + y = ',\n",
       " '<|begin_of_text|>x = 6, y = 15; therefore x + y = ',\n",
       " '<|begin_of_text|>x = 2, y = 20; therefore x + y = ',\n",
       " '<|begin_of_text|>x = 17, y = 6; therefore x + y = ',\n",
       " '<|begin_of_text|>x = 23, y = 1; therefore x + y = ',\n",
       " '<|begin_of_text|>x = 0, y = 25; therefore x + y = ',\n",
       " '<|begin_of_text|>x = 1, y = 14; therefore x + y = ',\n",
       " '<|begin_of_text|>x = 13, y = 3; therefore x + y = ',\n",
       " '<|begin_of_text|>x = 15, y = 2; therefore x + y = ',\n",
       " '<|begin_of_text|>x = 8, y = 10; therefore x + y = ',\n",
       " '<|begin_of_text|>x = 2, y = 17; therefore x + y = ',\n",
       " '<|begin_of_text|>x = 16, y = 4; therefore x + y = ',\n",
       " '<|begin_of_text|>x = 12, y = 9; therefore x + y = ',\n",
       " '<|begin_of_text|>x = 6, y = 16; therefore x + y = ',\n",
       " '<|begin_of_text|>x = 20, y = 3; therefore x + y = ',\n",
       " '<|begin_of_text|>x = 12, y = 12; therefore x + y = ',\n",
       " '<|begin_of_text|>x = 11, y = 14; therefore x + y = ',\n",
       " '<|begin_of_text|>x = 7, y = 8; therefore x + y = ',\n",
       " '<|begin_of_text|>x = 5, y = 11; therefore x + y = ',\n",
       " '<|begin_of_text|>x = 8, y = 9; therefore x + y = ',\n",
       " '<|begin_of_text|>x = 5, y = 13; therefore x + y = ',\n",
       " '<|begin_of_text|>x = 8, y = 11; therefore x + y = ',\n",
       " '<|begin_of_text|>x = 17, y = 3; therefore x + y = ',\n",
       " '<|begin_of_text|>x = 6, y = 15; therefore x + y = ',\n",
       " '<|begin_of_text|>x = 15, y = 7; therefore x + y = ',\n",
       " '<|begin_of_text|>x = 22, y = 1; therefore x + y = ',\n",
       " '<|begin_of_text|>x = 2, y = 22; therefore x + y = ',\n",
       " '<|begin_of_text|>x = 21, y = 4; therefore x + y = ',\n",
       " '<|begin_of_text|>x = 11, y = 4; therefore x + y = ',\n",
       " '<|begin_of_text|>x = 12, y = 4; therefore x + y = ',\n",
       " '<|begin_of_text|>x = 4, y = 13; therefore x + y = ',\n",
       " '<|begin_of_text|>x = 9, y = 9; therefore x + y = ',\n",
       " '<|begin_of_text|>x = 9, y = 10; therefore x + y = ',\n",
       " '<|begin_of_text|>x = 18, y = 2; therefore x + y = ',\n",
       " '<|begin_of_text|>x = 10, y = 11; therefore x + y = ',\n",
       " '<|begin_of_text|>x = 13, y = 9; therefore x + y = ',\n",
       " '<|begin_of_text|>x = 17, y = 6; therefore x + y = ',\n",
       " '<|begin_of_text|>x = 21, y = 3; therefore x + y = ',\n",
       " '<|begin_of_text|>x = 6, y = 19; therefore x + y = ',\n",
       " '<|begin_of_text|>x = 9, y = 6; therefore x + y = ',\n",
       " '<|begin_of_text|>x = 7, y = 9; therefore x + y = ',\n",
       " '<|begin_of_text|>x = 12, y = 5; therefore x + y = ',\n",
       " '<|begin_of_text|>x = 5, y = 13; therefore x + y = ',\n",
       " '<|begin_of_text|>x = 0, y = 19; therefore x + y = ',\n",
       " '<|begin_of_text|>x = 7, y = 13; therefore x + y = ',\n",
       " '<|begin_of_text|>x = 7, y = 14; therefore x + y = ',\n",
       " '<|begin_of_text|>x = 10, y = 12; therefore x + y = ',\n",
       " '<|begin_of_text|>x = 8, y = 15; therefore x + y = ',\n",
       " '<|begin_of_text|>x = 18, y = 6; therefore x + y = ',\n",
       " '<|begin_of_text|>x = 9, y = 16; therefore x + y = ',\n",
       " '<|begin_of_text|>x = 14, y = 1; therefore x + y = ',\n",
       " '<|begin_of_text|>x = 11, y = 5; therefore x + y = ',\n",
       " '<|begin_of_text|>x = 8, y = 9; therefore x + y = ',\n",
       " '<|begin_of_text|>x = 13, y = 5; therefore x + y = ',\n",
       " '<|begin_of_text|>x = 13, y = 6; therefore x + y = ',\n",
       " '<|begin_of_text|>x = 13, y = 7; therefore x + y = ',\n",
       " '<|begin_of_text|>x = 15, y = 6; therefore x + y = ',\n",
       " '<|begin_of_text|>x = 22, y = 0; therefore x + y = ',\n",
       " '<|begin_of_text|>x = 18, y = 5; therefore x + y = ',\n",
       " '<|begin_of_text|>x = 5, y = 19; therefore x + y = ',\n",
       " '<|begin_of_text|>x = 24, y = 1; therefore x + y = ',\n",
       " '<|begin_of_text|>x = 11, y = 4; therefore x + y = ',\n",
       " '<|begin_of_text|>x = 10, y = 6; therefore x + y = ',\n",
       " '<|begin_of_text|>x = 16, y = 1; therefore x + y = ',\n",
       " '<|begin_of_text|>x = 9, y = 9; therefore x + y = ',\n",
       " '<|begin_of_text|>x = 3, y = 16; therefore x + y = ',\n",
       " '<|begin_of_text|>x = 17, y = 3; therefore x + y = ',\n",
       " '<|begin_of_text|>x = 11, y = 10; therefore x + y = ',\n",
       " '<|begin_of_text|>x = 15, y = 7; therefore x + y = ',\n",
       " '<|begin_of_text|>x = 6, y = 17; therefore x + y = ',\n",
       " '<|begin_of_text|>x = 14, y = 10; therefore x + y = ',\n",
       " '<|begin_of_text|>x = -1, y = 26; therefore x + y = ',\n",
       " '<|begin_of_text|>x = 9, y = 6; therefore x + y = ',\n",
       " '<|begin_of_text|>x = 8, y = 8; therefore x + y = ',\n",
       " '<|begin_of_text|>x = 3, y = 14; therefore x + y = ',\n",
       " '<|begin_of_text|>x = 7, y = 11; therefore x + y = ',\n",
       " '<|begin_of_text|>x = 6, y = 13; therefore x + y = ',\n",
       " '<|begin_of_text|>x = 13, y = 7; therefore x + y = ',\n",
       " '<|begin_of_text|>x = 1, y = 20; therefore x + y = ',\n",
       " '<|begin_of_text|>x = 5, y = 17; therefore x + y = ',\n",
       " '<|begin_of_text|>x = 23, y = 0; therefore x + y = ',\n",
       " '<|begin_of_text|>x = 22, y = 2; therefore x + y = ',\n",
       " '<|begin_of_text|>x = 25, y = 0; therefore x + y = ',\n",
       " '<|begin_of_text|>x = 14, y = 1; therefore x + y = ']"
      ]
     },
     "execution_count": 7,
     "metadata": {},
     "output_type": "execute_result"
    }
   ],
   "source": [
    "str_problems"
   ]
  },
  {
   "cell_type": "code",
   "execution_count": 30,
   "metadata": {},
   "outputs": [],
   "source": [
    "# make a set of integer-valued answers\n",
    "int_answers = [int(a) for a in str_answers]"
   ]
  },
  {
   "cell_type": "code",
   "execution_count": 31,
   "metadata": {},
   "outputs": [
    {
     "data": {
      "text/plain": [
       "torch.Size([100])"
      ]
     },
     "execution_count": 31,
     "metadata": {},
     "output_type": "execute_result"
    }
   ],
   "source": [
    "class_ids = torch.tensor(answers[:, 0])\n",
    "class_ids.shape"
   ]
  },
  {
   "cell_type": "code",
   "execution_count": 24,
   "metadata": {},
   "outputs": [],
   "source": [
    "\n",
    "def get_umap(layer_reps, class_ids):\n",
    "    \"\"\" Compute the UMAP of layer_reps, which is a tensor of shape [num_examples, num_tokens, token_dim]\n",
    "    \"\"\"\n",
    "    print(\"Layer reps shape:\", layer_reps.shape)\n",
    "    print(\"Layer reps has type:\", type(layer_reps))\n",
    "\n",
    "    class_ids = class_ids.cpu()\n",
    "    if type(layer_reps) != np.ndarray: \n",
    "        layer_reps = layer_reps.cpu()\n",
    "    \n",
    "    # Convert to numpy if it's a torch tensor\n",
    "    if torch.is_tensor(layer_reps):\n",
    "        layer_reps = layer_reps.detach().cpu().numpy()\n",
    "    \n",
    "    # Flatten the last two dimensions\n",
    "    try:\n",
    "        num_examples, num_tokens, token_dim = layer_reps.shape\n",
    "        flattened_reps = layer_reps.reshape(num_examples, num_tokens * token_dim)\n",
    "    except: \n",
    "        assert len(layer_reps.shape) == 2, \"Layer reps shape is messed up\"\n",
    "        flattened_reps = layer_reps\n",
    "\n",
    "    \n",
    "    # Apply UMAP\n",
    "    reducer = umap.UMAP(random_state=42)\n",
    "    umap_embedding = reducer.fit_transform(flattened_reps)\n",
    "    # print(\"Output of reduce transform: \", umap_embedding)\n",
    "    \n",
    "    return umap_embedding\n",
    "\n",
    "def get_class_relevance_pca(layer_reps, class_ids):\n",
    "    \"\"\" Compute the PCA of layer_reps, which is a tensor of shape [num_examples, num_tokens, token_dim]\n",
    "    We are going to compute the PCA which maximizes the variance of class means\n",
    "    \"\"\"\n",
    "    flattened_reps = layer_reps.reshape(layer_reps.shape[0], -1).cpu()\n",
    "    \n",
    "    # Calculate class means efficiently\n",
    "    unique_classes = np.unique(class_ids)\n",
    "    print(\"flattened_reps type: \", type(flattened_reps))\n",
    "    print(\"flattened_reps device: \", flattened_reps.device)\n",
    "    print(\"class_ids type: \", type(class_ids))\n",
    "    print(\"class_ids device: \", class_ids.device)\n",
    "    class_means = np.array([flattened_reps[class_ids == c].mean(axis=0) for c in unique_classes])\n",
    "    \n",
    "    # Run PCA on the class means\n",
    "    pca = PCA()\n",
    "    pca.fit(class_means)\n",
    "    \n",
    "    # Project the original data onto the PCA components\n",
    "    projected_data = pca.transform(flattened_reps)\n",
    "    \n",
    "    return projected_data\n",
    "\n",
    "from sklearn.decomposition import PCA\n",
    "\n",
    "def get_pca(layer_reps, class_ids):\n",
    "    \"\"\" Compute the PCA of layer_reps, which is a tensor of shape [num_examples, num_tokens, token_dim]\n",
    "    \"\"\"\n",
    "    # Convert to numpy if it's a torch tensor\n",
    "    if torch.is_tensor(layer_reps):\n",
    "        layer_reps = layer_reps.detach().cpu().numpy()\n",
    "    \n",
    "    # Flatten the last two dimensions\n",
    "    num_examples, num_tokens, token_dim = layer_reps.shape\n",
    "    flattened_reps = layer_reps.reshape(num_examples, num_tokens * token_dim)\n",
    "    \n",
    "    # Apply PCA\n",
    "    pca = PCA(n_components=2)  # You can adjust the number of components as needed\n",
    "    pca_result = pca.fit_transform(flattened_reps)\n",
    "    \n",
    "    return pca_result\n",
    "\n",
    "def get_class_pca_and_umap(layer_reps, class_ids):\n",
    "    \"\"\" Compute the PCA and UMAP of layer_reps, which is a tensor of shape [num_examples, num_tokens, token_dim]\n",
    "    \"\"\"\n",
    "    pca_result = get_class_relevance_pca(layer_reps, class_ids)\n",
    "\n",
    "    number_of_class_ids = len(np.unique(class_ids)) - 1\n",
    "\n",
    "    pca_and_umap_result = get_umap(pca_result[:, 0:number_of_class_ids], class_ids)\n",
    "    \n",
    "    return pca_and_umap_result"
   ]
  },
  {
   "cell_type": "code",
   "execution_count": 11,
   "metadata": {},
   "outputs": [
    {
     "name": "stdout",
     "output_type": "stream",
     "text": [
      "flattened_reps type:  <class 'torch.Tensor'>\n",
      "flattened_reps device:  cpu\n",
      "class_ids type:  <class 'torch.Tensor'>\n",
      "class_ids device:  cpu\n",
      "Layer reps shape: (100, 10)\n",
      "Layer reps has type: <class 'numpy.ndarray'>\n"
     ]
    },
    {
     "name": "stderr",
     "output_type": "stream",
     "text": [
      "/home/user/understanding_understanding/venv/lib/python3.10/site-packages/umap/umap_.py:1945: UserWarning: n_jobs value 1 overridden to 1 by setting random_state. Use no seed for parallelism.\n",
      "  warn(f\"n_jobs value {self.n_jobs} overridden to 1 by setting random_state. Use no seed for parallelism.\")\n"
     ]
    },
    {
     "name": "stdout",
     "output_type": "stream",
     "text": [
      "flattened_reps type:  <class 'torch.Tensor'>\n",
      "flattened_reps device:  cpu\n",
      "class_ids type:  <class 'torch.Tensor'>\n",
      "class_ids device:  cpu\n",
      "Layer reps shape: (100, 10)\n",
      "Layer reps has type: <class 'numpy.ndarray'>\n"
     ]
    },
    {
     "name": "stderr",
     "output_type": "stream",
     "text": [
      "/home/user/understanding_understanding/venv/lib/python3.10/site-packages/umap/umap_.py:1945: UserWarning:\n",
      "\n",
      "n_jobs value 1 overridden to 1 by setting random_state. Use no seed for parallelism.\n",
      "\n"
     ]
    },
    {
     "name": "stdout",
     "output_type": "stream",
     "text": [
      "flattened_reps type:  <class 'torch.Tensor'>\n",
      "flattened_reps device:  cpu\n",
      "class_ids type:  <class 'torch.Tensor'>\n",
      "class_ids device:  cpu\n",
      "Layer reps shape: (100, 10)\n",
      "Layer reps has type: <class 'numpy.ndarray'>\n"
     ]
    },
    {
     "name": "stderr",
     "output_type": "stream",
     "text": [
      "/home/user/understanding_understanding/venv/lib/python3.10/site-packages/umap/umap_.py:1945: UserWarning:\n",
      "\n",
      "n_jobs value 1 overridden to 1 by setting random_state. Use no seed for parallelism.\n",
      "\n"
     ]
    },
    {
     "name": "stdout",
     "output_type": "stream",
     "text": [
      "flattened_reps type:  <class 'torch.Tensor'>\n",
      "flattened_reps device:  cpu\n",
      "class_ids type:  <class 'torch.Tensor'>\n",
      "class_ids device:  cpu\n",
      "Layer reps shape: (100, 10)\n",
      "Layer reps has type: <class 'numpy.ndarray'>\n"
     ]
    },
    {
     "name": "stderr",
     "output_type": "stream",
     "text": [
      "/home/user/understanding_understanding/venv/lib/python3.10/site-packages/umap/umap_.py:1945: UserWarning:\n",
      "\n",
      "n_jobs value 1 overridden to 1 by setting random_state. Use no seed for parallelism.\n",
      "\n"
     ]
    },
    {
     "name": "stdout",
     "output_type": "stream",
     "text": [
      "flattened_reps type:  <class 'torch.Tensor'>\n",
      "flattened_reps device:  cpu\n",
      "class_ids type:  <class 'torch.Tensor'>\n",
      "class_ids device:  cpu\n",
      "Layer reps shape: (100, 10)\n",
      "Layer reps has type: <class 'numpy.ndarray'>\n"
     ]
    },
    {
     "name": "stderr",
     "output_type": "stream",
     "text": [
      "/home/user/understanding_understanding/venv/lib/python3.10/site-packages/umap/umap_.py:1945: UserWarning:\n",
      "\n",
      "n_jobs value 1 overridden to 1 by setting random_state. Use no seed for parallelism.\n",
      "\n"
     ]
    },
    {
     "name": "stdout",
     "output_type": "stream",
     "text": [
      "flattened_reps type:  <class 'torch.Tensor'>\n",
      "flattened_reps device:  cpu\n",
      "class_ids type:  <class 'torch.Tensor'>\n",
      "class_ids device:  cpu\n",
      "Layer reps shape: (100, 10)\n",
      "Layer reps has type: <class 'numpy.ndarray'>\n"
     ]
    },
    {
     "name": "stderr",
     "output_type": "stream",
     "text": [
      "/home/user/understanding_understanding/venv/lib/python3.10/site-packages/umap/umap_.py:1945: UserWarning:\n",
      "\n",
      "n_jobs value 1 overridden to 1 by setting random_state. Use no seed for parallelism.\n",
      "\n"
     ]
    },
    {
     "name": "stdout",
     "output_type": "stream",
     "text": [
      "flattened_reps type:  <class 'torch.Tensor'>\n",
      "flattened_reps device:  cpu\n",
      "class_ids type:  <class 'torch.Tensor'>\n",
      "class_ids device:  cpu\n",
      "Layer reps shape: (100, 10)\n",
      "Layer reps has type: <class 'numpy.ndarray'>\n"
     ]
    },
    {
     "name": "stderr",
     "output_type": "stream",
     "text": [
      "/home/user/understanding_understanding/venv/lib/python3.10/site-packages/umap/umap_.py:1945: UserWarning:\n",
      "\n",
      "n_jobs value 1 overridden to 1 by setting random_state. Use no seed for parallelism.\n",
      "\n"
     ]
    },
    {
     "name": "stdout",
     "output_type": "stream",
     "text": [
      "flattened_reps type:  <class 'torch.Tensor'>\n",
      "flattened_reps device:  cpu\n",
      "class_ids type:  <class 'torch.Tensor'>\n",
      "class_ids device:  cpu\n",
      "Layer reps shape: (100, 10)\n",
      "Layer reps has type: <class 'numpy.ndarray'>\n"
     ]
    },
    {
     "name": "stderr",
     "output_type": "stream",
     "text": [
      "/home/user/understanding_understanding/venv/lib/python3.10/site-packages/umap/umap_.py:1945: UserWarning:\n",
      "\n",
      "n_jobs value 1 overridden to 1 by setting random_state. Use no seed for parallelism.\n",
      "\n"
     ]
    },
    {
     "name": "stdout",
     "output_type": "stream",
     "text": [
      "flattened_reps type:  <class 'torch.Tensor'>\n",
      "flattened_reps device:  cpu\n",
      "class_ids type:  <class 'torch.Tensor'>\n",
      "class_ids device:  cpu\n",
      "Layer reps shape: (100, 10)\n",
      "Layer reps has type: <class 'numpy.ndarray'>\n"
     ]
    },
    {
     "name": "stderr",
     "output_type": "stream",
     "text": [
      "/home/user/understanding_understanding/venv/lib/python3.10/site-packages/umap/umap_.py:1945: UserWarning:\n",
      "\n",
      "n_jobs value 1 overridden to 1 by setting random_state. Use no seed for parallelism.\n",
      "\n"
     ]
    },
    {
     "name": "stdout",
     "output_type": "stream",
     "text": [
      "flattened_reps type:  <class 'torch.Tensor'>\n",
      "flattened_reps device:  cpu\n",
      "class_ids type:  <class 'torch.Tensor'>\n",
      "class_ids device:  cpu\n",
      "Layer reps shape: (100, 10)\n",
      "Layer reps has type: <class 'numpy.ndarray'>\n"
     ]
    },
    {
     "name": "stderr",
     "output_type": "stream",
     "text": [
      "/home/user/understanding_understanding/venv/lib/python3.10/site-packages/umap/umap_.py:1945: UserWarning:\n",
      "\n",
      "n_jobs value 1 overridden to 1 by setting random_state. Use no seed for parallelism.\n",
      "\n"
     ]
    },
    {
     "name": "stdout",
     "output_type": "stream",
     "text": [
      "flattened_reps type:  <class 'torch.Tensor'>\n",
      "flattened_reps device:  cpu\n",
      "class_ids type:  <class 'torch.Tensor'>\n",
      "class_ids device:  cpu\n",
      "Layer reps shape: (100, 10)\n",
      "Layer reps has type: <class 'numpy.ndarray'>\n"
     ]
    },
    {
     "name": "stderr",
     "output_type": "stream",
     "text": [
      "/home/user/understanding_understanding/venv/lib/python3.10/site-packages/umap/umap_.py:1945: UserWarning:\n",
      "\n",
      "n_jobs value 1 overridden to 1 by setting random_state. Use no seed for parallelism.\n",
      "\n"
     ]
    },
    {
     "name": "stdout",
     "output_type": "stream",
     "text": [
      "flattened_reps type:  <class 'torch.Tensor'>\n",
      "flattened_reps device:  cpu\n",
      "class_ids type:  <class 'torch.Tensor'>\n",
      "class_ids device:  cpu\n",
      "Layer reps shape: (100, 10)\n",
      "Layer reps has type: <class 'numpy.ndarray'>\n"
     ]
    },
    {
     "name": "stderr",
     "output_type": "stream",
     "text": [
      "/home/user/understanding_understanding/venv/lib/python3.10/site-packages/umap/umap_.py:1945: UserWarning:\n",
      "\n",
      "n_jobs value 1 overridden to 1 by setting random_state. Use no seed for parallelism.\n",
      "\n"
     ]
    },
    {
     "name": "stdout",
     "output_type": "stream",
     "text": [
      "flattened_reps type:  <class 'torch.Tensor'>\n",
      "flattened_reps device:  cpu\n",
      "class_ids type:  <class 'torch.Tensor'>\n",
      "class_ids device:  cpu\n",
      "Layer reps shape: (100, 10)\n",
      "Layer reps has type: <class 'numpy.ndarray'>\n"
     ]
    },
    {
     "name": "stderr",
     "output_type": "stream",
     "text": [
      "/home/user/understanding_understanding/venv/lib/python3.10/site-packages/umap/umap_.py:1945: UserWarning:\n",
      "\n",
      "n_jobs value 1 overridden to 1 by setting random_state. Use no seed for parallelism.\n",
      "\n"
     ]
    },
    {
     "name": "stdout",
     "output_type": "stream",
     "text": [
      "flattened_reps type:  <class 'torch.Tensor'>\n",
      "flattened_reps device:  cpu\n",
      "class_ids type:  <class 'torch.Tensor'>\n",
      "class_ids device:  cpu\n",
      "Layer reps shape: (100, 10)\n",
      "Layer reps has type: <class 'numpy.ndarray'>\n"
     ]
    },
    {
     "name": "stderr",
     "output_type": "stream",
     "text": [
      "/home/user/understanding_understanding/venv/lib/python3.10/site-packages/umap/umap_.py:1945: UserWarning:\n",
      "\n",
      "n_jobs value 1 overridden to 1 by setting random_state. Use no seed for parallelism.\n",
      "\n"
     ]
    },
    {
     "name": "stdout",
     "output_type": "stream",
     "text": [
      "flattened_reps type:  <class 'torch.Tensor'>\n",
      "flattened_reps device:  cpu\n",
      "class_ids type:  <class 'torch.Tensor'>\n",
      "class_ids device:  cpu\n",
      "Layer reps shape: (100, 10)\n",
      "Layer reps has type: <class 'numpy.ndarray'>\n"
     ]
    },
    {
     "name": "stderr",
     "output_type": "stream",
     "text": [
      "/home/user/understanding_understanding/venv/lib/python3.10/site-packages/umap/umap_.py:1945: UserWarning:\n",
      "\n",
      "n_jobs value 1 overridden to 1 by setting random_state. Use no seed for parallelism.\n",
      "\n"
     ]
    },
    {
     "name": "stdout",
     "output_type": "stream",
     "text": [
      "flattened_reps type:  <class 'torch.Tensor'>\n",
      "flattened_reps device:  cpu\n",
      "class_ids type:  <class 'torch.Tensor'>\n",
      "class_ids device:  cpu\n",
      "Layer reps shape: (100, 10)\n",
      "Layer reps has type: <class 'numpy.ndarray'>\n"
     ]
    },
    {
     "name": "stderr",
     "output_type": "stream",
     "text": [
      "/home/user/understanding_understanding/venv/lib/python3.10/site-packages/umap/umap_.py:1945: UserWarning:\n",
      "\n",
      "n_jobs value 1 overridden to 1 by setting random_state. Use no seed for parallelism.\n",
      "\n"
     ]
    },
    {
     "name": "stdout",
     "output_type": "stream",
     "text": [
      "flattened_reps type:  <class 'torch.Tensor'>\n",
      "flattened_reps device:  cpu\n",
      "class_ids type:  <class 'torch.Tensor'>\n",
      "class_ids device:  cpu\n",
      "Layer reps shape: (100, 10)\n",
      "Layer reps has type: <class 'numpy.ndarray'>\n"
     ]
    },
    {
     "name": "stderr",
     "output_type": "stream",
     "text": [
      "/home/user/understanding_understanding/venv/lib/python3.10/site-packages/umap/umap_.py:1945: UserWarning:\n",
      "\n",
      "n_jobs value 1 overridden to 1 by setting random_state. Use no seed for parallelism.\n",
      "\n"
     ]
    },
    {
     "name": "stdout",
     "output_type": "stream",
     "text": [
      "flattened_reps type:  <class 'torch.Tensor'>\n",
      "flattened_reps device:  cpu\n",
      "class_ids type:  <class 'torch.Tensor'>\n",
      "class_ids device:  cpu\n",
      "Layer reps shape: (100, 10)\n",
      "Layer reps has type: <class 'numpy.ndarray'>\n"
     ]
    },
    {
     "name": "stderr",
     "output_type": "stream",
     "text": [
      "/home/user/understanding_understanding/venv/lib/python3.10/site-packages/umap/umap_.py:1945: UserWarning:\n",
      "\n",
      "n_jobs value 1 overridden to 1 by setting random_state. Use no seed for parallelism.\n",
      "\n"
     ]
    },
    {
     "name": "stdout",
     "output_type": "stream",
     "text": [
      "flattened_reps type:  <class 'torch.Tensor'>\n",
      "flattened_reps device:  cpu\n",
      "class_ids type:  <class 'torch.Tensor'>\n",
      "class_ids device:  cpu\n",
      "Layer reps shape: (100, 10)\n",
      "Layer reps has type: <class 'numpy.ndarray'>\n"
     ]
    },
    {
     "name": "stderr",
     "output_type": "stream",
     "text": [
      "/home/user/understanding_understanding/venv/lib/python3.10/site-packages/umap/umap_.py:1945: UserWarning:\n",
      "\n",
      "n_jobs value 1 overridden to 1 by setting random_state. Use no seed for parallelism.\n",
      "\n"
     ]
    },
    {
     "name": "stdout",
     "output_type": "stream",
     "text": [
      "flattened_reps type:  <class 'torch.Tensor'>\n",
      "flattened_reps device:  cpu\n",
      "class_ids type:  <class 'torch.Tensor'>\n",
      "class_ids device:  cpu\n",
      "Layer reps shape: (100, 10)\n",
      "Layer reps has type: <class 'numpy.ndarray'>\n"
     ]
    },
    {
     "name": "stderr",
     "output_type": "stream",
     "text": [
      "/home/user/understanding_understanding/venv/lib/python3.10/site-packages/umap/umap_.py:1945: UserWarning:\n",
      "\n",
      "n_jobs value 1 overridden to 1 by setting random_state. Use no seed for parallelism.\n",
      "\n"
     ]
    },
    {
     "name": "stdout",
     "output_type": "stream",
     "text": [
      "flattened_reps type:  <class 'torch.Tensor'>\n",
      "flattened_reps device:  cpu\n",
      "class_ids type:  <class 'torch.Tensor'>\n",
      "class_ids device:  cpu\n",
      "Layer reps shape: (100, 10)\n",
      "Layer reps has type: <class 'numpy.ndarray'>\n"
     ]
    },
    {
     "name": "stderr",
     "output_type": "stream",
     "text": [
      "/home/user/understanding_understanding/venv/lib/python3.10/site-packages/umap/umap_.py:1945: UserWarning:\n",
      "\n",
      "n_jobs value 1 overridden to 1 by setting random_state. Use no seed for parallelism.\n",
      "\n"
     ]
    },
    {
     "name": "stdout",
     "output_type": "stream",
     "text": [
      "flattened_reps type:  <class 'torch.Tensor'>\n",
      "flattened_reps device:  cpu\n",
      "class_ids type:  <class 'torch.Tensor'>\n",
      "class_ids device:  cpu\n",
      "Layer reps shape: (100, 10)\n",
      "Layer reps has type: <class 'numpy.ndarray'>\n"
     ]
    },
    {
     "name": "stderr",
     "output_type": "stream",
     "text": [
      "/home/user/understanding_understanding/venv/lib/python3.10/site-packages/umap/umap_.py:1945: UserWarning:\n",
      "\n",
      "n_jobs value 1 overridden to 1 by setting random_state. Use no seed for parallelism.\n",
      "\n"
     ]
    },
    {
     "name": "stdout",
     "output_type": "stream",
     "text": [
      "flattened_reps type:  <class 'torch.Tensor'>\n",
      "flattened_reps device:  cpu\n",
      "class_ids type:  <class 'torch.Tensor'>\n",
      "class_ids device:  cpu\n",
      "Layer reps shape: (100, 10)\n",
      "Layer reps has type: <class 'numpy.ndarray'>\n"
     ]
    },
    {
     "name": "stderr",
     "output_type": "stream",
     "text": [
      "/home/user/understanding_understanding/venv/lib/python3.10/site-packages/umap/umap_.py:1945: UserWarning:\n",
      "\n",
      "n_jobs value 1 overridden to 1 by setting random_state. Use no seed for parallelism.\n",
      "\n"
     ]
    },
    {
     "name": "stdout",
     "output_type": "stream",
     "text": [
      "flattened_reps type:  <class 'torch.Tensor'>\n",
      "flattened_reps device:  cpu\n",
      "class_ids type:  <class 'torch.Tensor'>\n",
      "class_ids device:  cpu\n",
      "Layer reps shape: (100, 10)\n",
      "Layer reps has type: <class 'numpy.ndarray'>\n"
     ]
    },
    {
     "name": "stderr",
     "output_type": "stream",
     "text": [
      "/home/user/understanding_understanding/venv/lib/python3.10/site-packages/umap/umap_.py:1945: UserWarning:\n",
      "\n",
      "n_jobs value 1 overridden to 1 by setting random_state. Use no seed for parallelism.\n",
      "\n"
     ]
    },
    {
     "name": "stdout",
     "output_type": "stream",
     "text": [
      "flattened_reps type:  <class 'torch.Tensor'>\n",
      "flattened_reps device:  cpu\n",
      "class_ids type:  <class 'torch.Tensor'>\n",
      "class_ids device:  cpu\n",
      "Layer reps shape: (100, 10)\n",
      "Layer reps has type: <class 'numpy.ndarray'>\n"
     ]
    },
    {
     "name": "stderr",
     "output_type": "stream",
     "text": [
      "/home/user/understanding_understanding/venv/lib/python3.10/site-packages/umap/umap_.py:1945: UserWarning:\n",
      "\n",
      "n_jobs value 1 overridden to 1 by setting random_state. Use no seed for parallelism.\n",
      "\n"
     ]
    },
    {
     "name": "stdout",
     "output_type": "stream",
     "text": [
      "flattened_reps type:  <class 'torch.Tensor'>\n",
      "flattened_reps device:  cpu\n",
      "class_ids type:  <class 'torch.Tensor'>\n",
      "class_ids device:  cpu\n",
      "Layer reps shape: (100, 10)\n",
      "Layer reps has type: <class 'numpy.ndarray'>\n"
     ]
    },
    {
     "name": "stderr",
     "output_type": "stream",
     "text": [
      "/home/user/understanding_understanding/venv/lib/python3.10/site-packages/umap/umap_.py:1945: UserWarning:\n",
      "\n",
      "n_jobs value 1 overridden to 1 by setting random_state. Use no seed for parallelism.\n",
      "\n"
     ]
    },
    {
     "name": "stdout",
     "output_type": "stream",
     "text": [
      "flattened_reps type:  <class 'torch.Tensor'>\n",
      "flattened_reps device:  cpu\n",
      "class_ids type:  <class 'torch.Tensor'>\n",
      "class_ids device:  cpu\n",
      "Layer reps shape: (100, 10)\n",
      "Layer reps has type: <class 'numpy.ndarray'>\n"
     ]
    },
    {
     "name": "stderr",
     "output_type": "stream",
     "text": [
      "/home/user/understanding_understanding/venv/lib/python3.10/site-packages/umap/umap_.py:1945: UserWarning:\n",
      "\n",
      "n_jobs value 1 overridden to 1 by setting random_state. Use no seed for parallelism.\n",
      "\n"
     ]
    },
    {
     "name": "stdout",
     "output_type": "stream",
     "text": [
      "flattened_reps type:  <class 'torch.Tensor'>\n",
      "flattened_reps device:  cpu\n",
      "class_ids type:  <class 'torch.Tensor'>\n",
      "class_ids device:  cpu\n",
      "Layer reps shape: (100, 10)\n",
      "Layer reps has type: <class 'numpy.ndarray'>\n"
     ]
    },
    {
     "name": "stderr",
     "output_type": "stream",
     "text": [
      "/home/user/understanding_understanding/venv/lib/python3.10/site-packages/umap/umap_.py:1945: UserWarning:\n",
      "\n",
      "n_jobs value 1 overridden to 1 by setting random_state. Use no seed for parallelism.\n",
      "\n"
     ]
    },
    {
     "name": "stdout",
     "output_type": "stream",
     "text": [
      "flattened_reps type:  <class 'torch.Tensor'>\n",
      "flattened_reps device:  cpu\n",
      "class_ids type:  <class 'torch.Tensor'>\n",
      "class_ids device:  cpu\n",
      "Layer reps shape: (100, 10)\n",
      "Layer reps has type: <class 'numpy.ndarray'>\n"
     ]
    },
    {
     "name": "stderr",
     "output_type": "stream",
     "text": [
      "/home/user/understanding_understanding/venv/lib/python3.10/site-packages/umap/umap_.py:1945: UserWarning:\n",
      "\n",
      "n_jobs value 1 overridden to 1 by setting random_state. Use no seed for parallelism.\n",
      "\n"
     ]
    },
    {
     "name": "stdout",
     "output_type": "stream",
     "text": [
      "flattened_reps type:  <class 'torch.Tensor'>\n",
      "flattened_reps device:  cpu\n",
      "class_ids type:  <class 'torch.Tensor'>\n",
      "class_ids device:  cpu\n",
      "Layer reps shape: (100, 10)\n",
      "Layer reps has type: <class 'numpy.ndarray'>\n"
     ]
    },
    {
     "name": "stderr",
     "output_type": "stream",
     "text": [
      "/home/user/understanding_understanding/venv/lib/python3.10/site-packages/umap/umap_.py:1945: UserWarning:\n",
      "\n",
      "n_jobs value 1 overridden to 1 by setting random_state. Use no seed for parallelism.\n",
      "\n"
     ]
    },
    {
     "name": "stdout",
     "output_type": "stream",
     "text": [
      "flattened_reps type:  <class 'torch.Tensor'>\n",
      "flattened_reps device:  cpu\n",
      "class_ids type:  <class 'torch.Tensor'>\n",
      "class_ids device:  cpu\n",
      "Layer reps shape: (100, 10)\n",
      "Layer reps has type: <class 'numpy.ndarray'>\n"
     ]
    },
    {
     "name": "stderr",
     "output_type": "stream",
     "text": [
      "/home/user/understanding_understanding/venv/lib/python3.10/site-packages/umap/umap_.py:1945: UserWarning:\n",
      "\n",
      "n_jobs value 1 overridden to 1 by setting random_state. Use no seed for parallelism.\n",
      "\n"
     ]
    },
    {
     "name": "stdout",
     "output_type": "stream",
     "text": [
      "flattened_reps type:  <class 'torch.Tensor'>\n",
      "flattened_reps device:  cpu\n",
      "class_ids type:  <class 'torch.Tensor'>\n",
      "class_ids device:  cpu\n",
      "Layer reps shape: (100, 10)\n",
      "Layer reps has type: <class 'numpy.ndarray'>\n"
     ]
    },
    {
     "name": "stderr",
     "output_type": "stream",
     "text": [
      "/home/user/understanding_understanding/venv/lib/python3.10/site-packages/umap/umap_.py:1945: UserWarning:\n",
      "\n",
      "n_jobs value 1 overridden to 1 by setting random_state. Use no seed for parallelism.\n",
      "\n"
     ]
    },
    {
     "name": "stdout",
     "output_type": "stream",
     "text": [
      "flattened_reps type:  <class 'torch.Tensor'>\n",
      "flattened_reps device:  cpu\n",
      "class_ids type:  <class 'torch.Tensor'>\n",
      "class_ids device:  cpu\n",
      "Layer reps shape: (100, 10)\n",
      "Layer reps has type: <class 'numpy.ndarray'>\n"
     ]
    },
    {
     "name": "stderr",
     "output_type": "stream",
     "text": [
      "/home/user/understanding_understanding/venv/lib/python3.10/site-packages/umap/umap_.py:1945: UserWarning:\n",
      "\n",
      "n_jobs value 1 overridden to 1 by setting random_state. Use no seed for parallelism.\n",
      "\n"
     ]
    }
   ],
   "source": [
    "import plotly.graph_objects as go\n",
    "import plotly.io as pio\n",
    "from plotly.subplots import make_subplots\n",
    "\n",
    "# for dim_reduction_func in (get_pca, get_umap, get_class_relevance_pca, get_class_pca_and_umap):\n",
    "for dim_reduction_func in (get_class_pca_and_umap,):\n",
    "    # iterate through each layer\n",
    "    num_layers = 33\n",
    "    purity_by_layer = []\n",
    "    for layer_num in range(num_layers):\n",
    "        layer_activations = get_layer_activations(internal_reps, layer_num)\n",
    "        low_dim_embedding = dim_reduction_func(layer_activations, class_ids)\n",
    "        \n",
    "        # Create Plotly figure\n",
    "        fig = make_subplots(rows=1, cols=1)\n",
    "        \n",
    "        # Add scatter plot\n",
    "        scatter = go.Scatter(\n",
    "            x=low_dim_embedding[:, 0],\n",
    "            y=low_dim_embedding[:, 1],\n",
    "            mode='markers',\n",
    "            marker=dict(\n",
    "                size=8,\n",
    "                color=int_answers,\n",
    "                colorscale='Viridis',\n",
    "                showscale=True\n",
    "            ),\n",
    "            text=[f\"Problem: {prob}<br>Answer: {ans}<br>Predicted: {pred}\" \n",
    "                for prob, ans, pred in zip(str_problems, str_answers, predicted_class_str)],\n",
    "            hoverinfo='text'\n",
    "        )\n",
    "        \n",
    "        fig.add_trace(scatter)\n",
    "        \n",
    "        # Update layout\n",
    "        fig.update_layout(\n",
    "            title=f'{dim_reduction_func.__name__} for Layer {layer_num}',\n",
    "            xaxis_title='Dim 1',\n",
    "            yaxis_title='Dim 2',\n",
    "            width=1000,\n",
    "            height=800\n",
    "        )\n",
    "        \n",
    "        # Save as interactive HTML\n",
    "        pio.write_html(fig, file=f'{results_dir}/{dim_reduction_func.__name__}_layer_{layer_num}.html')\n",
    "        \n",
    "        # Save as static PNG\n",
    "        pio.write_image(fig, file=f'{results_dir}/{dim_reduction_func.__name__}_layer_{layer_num}.png')\n",
    "        \n",
    "        # Clear the figure to free up memory\n",
    "        fig.data = []\n",
    "        fig.layout = {}"
   ]
  },
  {
   "cell_type": "code",
   "execution_count": 12,
   "metadata": {},
   "outputs": [],
   "source": [
    "# # iterate through each layer\n",
    "# num_layers = 33\n",
    "# purity_by_layer = []\n",
    "# for layer_num in range(num_layers):\n",
    "#     layer_activations = get_layer_activations(internal_reps, layer_num)\n",
    "#     umap_embedding = get_umap(layer_activations)\n",
    "    \n",
    "#     # Plot UMAP\n",
    "#     plt.figure(figsize=(10, 8))\n",
    "#     scatter = plt.scatter(umap_embedding[:, 0], umap_embedding[:, 1], c=int_answers, cmap='viridis')\n",
    "#     plt.colorbar(scatter)\n",
    "#     plt.title(f'UMAP for Layer {layer_num}')\n",
    "#     plt.savefig(f'{results_dir}/umap_layer_{layer_num}.png')\n",
    "#     plt.close()\n",
    "    "
   ]
  },
  {
   "cell_type": "code",
   "execution_count": 13,
   "metadata": {},
   "outputs": [
    {
     "data": {
      "text/plain": [
       "numpy.ndarray"
      ]
     },
     "execution_count": 13,
     "metadata": {},
     "output_type": "execute_result"
    }
   ],
   "source": [
    "type(answers)"
   ]
  },
  {
   "cell_type": "code",
   "execution_count": 14,
   "metadata": {},
   "outputs": [
    {
     "name": "stderr",
     "output_type": "stream",
     "text": [
      "Loading checkpoint shards: 100%|██████████| 4/4 [00:13<00:00,  3.36s/it]\n"
     ]
    }
   ],
   "source": [
    "model = AutoModelForCausalLM.from_pretrained(\"meta-llama/Meta-Llama-3-8B-Instruct\", device_map='auto')"
   ]
  },
  {
   "cell_type": "code",
   "execution_count": 15,
   "metadata": {},
   "outputs": [
    {
     "data": {
      "text/plain": [
       "LlamaForCausalLM(\n",
       "  (model): LlamaModel(\n",
       "    (embed_tokens): Embedding(128256, 4096)\n",
       "    (layers): ModuleList(\n",
       "      (0-31): 32 x LlamaDecoderLayer(\n",
       "        (self_attn): LlamaSdpaAttention(\n",
       "          (q_proj): Linear(in_features=4096, out_features=4096, bias=False)\n",
       "          (k_proj): Linear(in_features=4096, out_features=1024, bias=False)\n",
       "          (v_proj): Linear(in_features=4096, out_features=1024, bias=False)\n",
       "          (o_proj): Linear(in_features=4096, out_features=4096, bias=False)\n",
       "          (rotary_emb): LlamaRotaryEmbedding()\n",
       "        )\n",
       "        (mlp): LlamaMLP(\n",
       "          (gate_proj): Linear(in_features=4096, out_features=14336, bias=False)\n",
       "          (up_proj): Linear(in_features=4096, out_features=14336, bias=False)\n",
       "          (down_proj): Linear(in_features=14336, out_features=4096, bias=False)\n",
       "          (act_fn): SiLU()\n",
       "        )\n",
       "        (input_layernorm): LlamaRMSNorm()\n",
       "        (post_attention_layernorm): LlamaRMSNorm()\n",
       "      )\n",
       "    )\n",
       "    (norm): LlamaRMSNorm()\n",
       "  )\n",
       "  (lm_head): Linear(in_features=4096, out_features=128256, bias=False)\n",
       ")"
      ]
     },
     "execution_count": 15,
     "metadata": {},
     "output_type": "execute_result"
    }
   ],
   "source": [
    "model"
   ]
  },
  {
   "cell_type": "code",
   "execution_count": 16,
   "metadata": {},
   "outputs": [
    {
     "data": {
      "text/plain": [
       "LlamaForCausalLM(\n",
       "  (model): LlamaModel(\n",
       "    (embed_tokens): Embedding(128256, 4096)\n",
       "    (layers): ModuleList(\n",
       "      (0-31): 32 x LlamaDecoderLayer(\n",
       "        (self_attn): LlamaSdpaAttention(\n",
       "          (q_proj): Linear(in_features=4096, out_features=4096, bias=False)\n",
       "          (k_proj): Linear(in_features=4096, out_features=1024, bias=False)\n",
       "          (v_proj): Linear(in_features=4096, out_features=1024, bias=False)\n",
       "          (o_proj): Linear(in_features=4096, out_features=4096, bias=False)\n",
       "          (rotary_emb): LlamaRotaryEmbedding()\n",
       "        )\n",
       "        (mlp): LlamaMLP(\n",
       "          (gate_proj): Linear(in_features=4096, out_features=14336, bias=False)\n",
       "          (up_proj): Linear(in_features=4096, out_features=14336, bias=False)\n",
       "          (down_proj): Linear(in_features=14336, out_features=4096, bias=False)\n",
       "          (act_fn): SiLU()\n",
       "        )\n",
       "        (input_layernorm): LlamaRMSNorm()\n",
       "        (post_attention_layernorm): LlamaRMSNorm()\n",
       "      )\n",
       "    )\n",
       "    (norm): LlamaRMSNorm()\n",
       "  )\n",
       "  (lm_head): Linear(in_features=4096, out_features=128256, bias=False)\n",
       ")"
      ]
     },
     "execution_count": 16,
     "metadata": {},
     "output_type": "execute_result"
    }
   ],
   "source": [
    "model"
   ]
  },
  {
   "cell_type": "code",
   "execution_count": 17,
   "metadata": {},
   "outputs": [
    {
     "data": {
      "text/plain": [
       "tensor([[[ 4.1851, -0.2059, -1.8382,  ..., -2.8908,  1.3605,  0.3109],\n",
       "         [ 1.2942, -4.6553,  0.2416,  ...,  2.4082,  0.4292, -1.4888],\n",
       "         [ 1.6030, -0.9961,  2.2922,  ...,  1.3186, -0.8656, -1.0692],\n",
       "         ...,\n",
       "         [-0.6426,  2.8010,  4.5676,  ..., -0.4665,  0.7432, -2.6349],\n",
       "         [-1.4301,  0.0569,  2.6330,  ...,  1.0594,  0.2765, -3.0647],\n",
       "         [-2.4644, -3.2000,  1.7012,  ..., -1.0187,  1.5276,  1.0285]],\n",
       "\n",
       "        [[ 4.1851, -0.2059, -1.8382,  ..., -2.8908,  1.3605,  0.3109],\n",
       "         [ 1.2942, -4.6553,  0.2416,  ...,  2.4082,  0.4292, -1.4888],\n",
       "         [ 1.6030, -0.9961,  2.2922,  ...,  1.3186, -0.8656, -1.0692],\n",
       "         ...,\n",
       "         [-1.1591,  3.2138,  3.5799,  ..., -0.2368,  0.2975, -3.6477],\n",
       "         [-1.3349, -0.3476,  2.1352,  ...,  1.3411,  0.0254, -4.7679],\n",
       "         [-0.4112, -3.9738,  3.0329,  ...,  0.5366,  2.0905, -0.1498]],\n",
       "\n",
       "        [[ 4.1851, -0.2059, -1.8382,  ..., -2.8908,  1.3605,  0.3109],\n",
       "         [ 1.2942, -4.6553,  0.2416,  ...,  2.4082,  0.4292, -1.4888],\n",
       "         [ 1.6030, -0.9961,  2.2922,  ...,  1.3186, -0.8656, -1.0692],\n",
       "         ...,\n",
       "         [-0.9592,  3.0631,  3.3667,  ..., -0.3133,  0.4255, -3.6954],\n",
       "         [-0.4207,  0.5844,  1.9329,  ...,  0.5118,  0.5327, -3.8135],\n",
       "         [ 0.9663, -0.6553,  1.2528,  ..., -1.3672,  2.7668,  1.5143]],\n",
       "\n",
       "        ...,\n",
       "\n",
       "        [[ 4.1851, -0.2059, -1.8382,  ..., -2.8908,  1.3605,  0.3109],\n",
       "         [ 1.2942, -4.6553,  0.2416,  ...,  2.4082,  0.4292, -1.4888],\n",
       "         [ 1.6030, -0.9961,  2.2922,  ...,  1.3186, -0.8656, -1.0692],\n",
       "         ...,\n",
       "         [-1.1389,  2.1765,  3.4575,  ..., -0.4641,  0.7297, -3.7126],\n",
       "         [-2.2051, -0.7697,  2.0608,  ...,  1.0523,  0.3850, -3.7949],\n",
       "         [-4.0609, -2.2500,  1.5351,  ..., -0.5199,  1.2357,  0.5011]],\n",
       "\n",
       "        [[ 4.1851, -0.2059, -1.8382,  ..., -2.8908,  1.3605,  0.3109],\n",
       "         [ 1.2942, -4.6553,  0.2416,  ...,  2.4082,  0.4292, -1.4888],\n",
       "         [ 1.6030, -0.9961,  2.2922,  ...,  1.3186, -0.8656, -1.0692],\n",
       "         ...,\n",
       "         [-1.4083,  2.9817,  3.6705,  ..., -0.4616,  0.6264, -3.4454],\n",
       "         [-1.2836,  0.3655,  1.7992,  ...,  0.5618, -0.5308, -3.5866],\n",
       "         [-1.1146, -3.8207,  0.3295,  ..., -1.5954,  1.6417,  1.6805]],\n",
       "\n",
       "        [[ 4.1851, -0.2059, -1.8382,  ..., -2.8908,  1.3605,  0.3109],\n",
       "         [ 1.2942, -4.6553,  0.2416,  ...,  2.4082,  0.4292, -1.4888],\n",
       "         [ 1.6030, -0.9961,  2.2922,  ...,  1.3186, -0.8656, -1.0692],\n",
       "         ...,\n",
       "         [-1.0249,  2.5733,  3.3920,  ..., -0.3490,  0.5552, -3.7669],\n",
       "         [-0.2017, -0.2848,  2.1559,  ...,  0.5293, -0.1084, -3.9482],\n",
       "         [-1.1388, -4.1318,  1.8962,  ..., -3.1782,  1.5691,  0.8038]]],\n",
       "       device='cuda:0')"
      ]
     },
     "execution_count": 17,
     "metadata": {},
     "output_type": "execute_result"
    }
   ],
   "source": [
    "layer_activations"
   ]
  },
  {
   "cell_type": "code",
   "execution_count": 18,
   "metadata": {},
   "outputs": [],
   "source": [
    "normed_activations = model.model.norm(layer_activations)"
   ]
  },
  {
   "cell_type": "code",
   "execution_count": 19,
   "metadata": {},
   "outputs": [
    {
     "data": {
      "text/plain": [
       "torch.Size([100, 17, 4096])"
      ]
     },
     "execution_count": 19,
     "metadata": {},
     "output_type": "execute_result"
    }
   ],
   "source": [
    "layer_activations.shape"
   ]
  },
  {
   "cell_type": "markdown",
   "metadata": {},
   "source": [
    "## Testing if the last hidden state gives the logits"
   ]
  },
  {
   "cell_type": "code",
   "execution_count": 20,
   "metadata": {},
   "outputs": [
    {
     "data": {
      "text/plain": [
       "device(type='cuda', index=0)"
      ]
     },
     "execution_count": 20,
     "metadata": {},
     "output_type": "execute_result"
    }
   ],
   "source": [
    "model.device"
   ]
  },
  {
   "cell_type": "code",
   "execution_count": 21,
   "metadata": {},
   "outputs": [
    {
     "name": "stderr",
     "output_type": "stream",
     "text": [
      "We detected that you are passing `past_key_values` as a tuple and this is deprecated and will be removed in v4.43. Please use an appropriate `Cache` class (https://huggingface.co/docs/transformers/v4.41.3/en/internal/generation_utils#transformers.Cache)\n"
     ]
    },
    {
     "name": "stdout",
     "output_type": "stream",
     "text": [
      "Input ids shape:  torch.Size([1, 15])\n",
      "Logits shape:  torch.Size([1, 15, 128256])\n",
      "Hidden states shapes:  [torch.Size([1, 15, 4096]), torch.Size([1, 15, 4096]), torch.Size([1, 15, 4096]), torch.Size([1, 15, 4096]), torch.Size([1, 15, 4096]), torch.Size([1, 15, 4096]), torch.Size([1, 15, 4096]), torch.Size([1, 15, 4096]), torch.Size([1, 15, 4096]), torch.Size([1, 15, 4096]), torch.Size([1, 15, 4096]), torch.Size([1, 15, 4096]), torch.Size([1, 15, 4096]), torch.Size([1, 15, 4096]), torch.Size([1, 15, 4096]), torch.Size([1, 15, 4096]), torch.Size([1, 15, 4096]), torch.Size([1, 15, 4096]), torch.Size([1, 15, 4096]), torch.Size([1, 15, 4096]), torch.Size([1, 15, 4096]), torch.Size([1, 15, 4096]), torch.Size([1, 15, 4096]), torch.Size([1, 15, 4096]), torch.Size([1, 15, 4096]), torch.Size([1, 15, 4096]), torch.Size([1, 15, 4096]), torch.Size([1, 15, 4096]), torch.Size([1, 15, 4096]), torch.Size([1, 15, 4096]), torch.Size([1, 15, 4096]), torch.Size([1, 15, 4096]), torch.Size([1, 15, 4096])]\n",
      "Last hidden state shape:  torch.Size([1, 15, 4096])\n"
     ]
    }
   ],
   "source": [
    "input_string= \"Hello, my name is Albert Einstein, and I am a physicist.\"\n",
    "input_ids = tokenizer(input_string, return_tensors='pt')['input_ids'].to(model.device)\n",
    "\n",
    "# run thru model, grab logits and hidden states and last_hidden_states\n",
    "outputs = model(input_ids, output_hidden_states=True, return_dict=True)\n",
    "logits = outputs.logits\n",
    "hidden_states = outputs.hidden_states\n",
    "last_hidden_state = hidden_states[-1]\n",
    "\n",
    "# print the shapes of each \n",
    "print(\"Input ids shape: \", input_ids.shape)\n",
    "print(\"Logits shape: \", logits.shape)\n",
    "print(\"Hidden states shapes: \", [hs.shape for hs in hidden_states])\n",
    "print(\"Last hidden state shape: \", last_hidden_state.shape)\n"
   ]
  },
  {
   "cell_type": "code",
   "execution_count": 22,
   "metadata": {},
   "outputs": [
    {
     "data": {
      "text/plain": [
       "LlamaForCausalLM(\n",
       "  (model): LlamaModel(\n",
       "    (embed_tokens): Embedding(128256, 4096)\n",
       "    (layers): ModuleList(\n",
       "      (0-31): 32 x LlamaDecoderLayer(\n",
       "        (self_attn): LlamaSdpaAttention(\n",
       "          (q_proj): Linear(in_features=4096, out_features=4096, bias=False)\n",
       "          (k_proj): Linear(in_features=4096, out_features=1024, bias=False)\n",
       "          (v_proj): Linear(in_features=4096, out_features=1024, bias=False)\n",
       "          (o_proj): Linear(in_features=4096, out_features=4096, bias=False)\n",
       "          (rotary_emb): LlamaRotaryEmbedding()\n",
       "        )\n",
       "        (mlp): LlamaMLP(\n",
       "          (gate_proj): Linear(in_features=4096, out_features=14336, bias=False)\n",
       "          (up_proj): Linear(in_features=4096, out_features=14336, bias=False)\n",
       "          (down_proj): Linear(in_features=14336, out_features=4096, bias=False)\n",
       "          (act_fn): SiLU()\n",
       "        )\n",
       "        (input_layernorm): LlamaRMSNorm()\n",
       "        (post_attention_layernorm): LlamaRMSNorm()\n",
       "      )\n",
       "    )\n",
       "    (norm): LlamaRMSNorm()\n",
       "  )\n",
       "  (lm_head): Linear(in_features=4096, out_features=128256, bias=False)\n",
       ")"
      ]
     },
     "execution_count": 22,
     "metadata": {},
     "output_type": "execute_result"
    }
   ],
   "source": [
    "model"
   ]
  },
  {
   "cell_type": "code",
   "execution_count": 23,
   "metadata": {},
   "outputs": [],
   "source": [
    "approx_logits = model.lm_head(last_hidden_state)"
   ]
  },
  {
   "cell_type": "code",
   "execution_count": 24,
   "metadata": {},
   "outputs": [
    {
     "data": {
      "text/plain": [
       "torch.Size([1, 15, 128256])"
      ]
     },
     "execution_count": 24,
     "metadata": {},
     "output_type": "execute_result"
    }
   ],
   "source": [
    "approx_logits.shape"
   ]
  },
  {
   "cell_type": "code",
   "execution_count": 25,
   "metadata": {},
   "outputs": [
    {
     "data": {
      "text/plain": [
       "torch.Size([1, 15, 128256])"
      ]
     },
     "execution_count": 25,
     "metadata": {},
     "output_type": "execute_result"
    }
   ],
   "source": [
    "logits.shape"
   ]
  },
  {
   "cell_type": "code",
   "execution_count": 26,
   "metadata": {},
   "outputs": [
    {
     "data": {
      "text/plain": [
       "True"
      ]
     },
     "execution_count": 26,
     "metadata": {},
     "output_type": "execute_result"
    }
   ],
   "source": [
    "# check if logits are all close\n",
    "torch.allclose(logits, approx_logits)"
   ]
  },
  {
   "cell_type": "code",
   "execution_count": 27,
   "metadata": {},
   "outputs": [
    {
     "data": {
      "text/plain": [
       "True"
      ]
     },
     "execution_count": 27,
     "metadata": {},
     "output_type": "execute_result"
    }
   ],
   "source": [
    "last_hidden_state - hidden_states[-1]\n",
    "# check if all close\n",
    "torch.allclose(last_hidden_state, hidden_states[-1])"
   ]
  },
  {
   "cell_type": "code",
   "execution_count": 28,
   "metadata": {},
   "outputs": [
    {
     "data": {
      "text/plain": [
       "True"
      ]
     },
     "execution_count": 28,
     "metadata": {},
     "output_type": "execute_result"
    }
   ],
   "source": [
    "approx2_logits = model.lm_head(hidden_states[-1])\n",
    "# check if all close\n",
    "torch.allclose(logits, approx2_logits)"
   ]
  },
  {
   "cell_type": "code",
   "execution_count": 18,
   "metadata": {},
   "outputs": [
    {
     "name": "stdout",
     "output_type": "stream",
     "text": [
      "tensor(0)\n",
      "tensor(0)\n",
      "tensor(0)\n",
      "tensor(0)\n",
      "tensor(0)\n",
      "tensor(0)\n",
      "tensor(0)\n",
      "tensor(0)\n",
      "tensor(0)\n",
      "tensor(0)\n",
      "tensor(0)\n",
      "tensor(0)\n",
      "tensor(0)\n",
      "tensor(0)\n",
      "tensor(0)\n",
      "tensor(0)\n",
      "tensor(0)\n",
      "tensor(0)\n",
      "tensor(0)\n",
      "tensor(0)\n",
      "tensor(0)\n",
      "tensor(0)\n",
      "tensor(0)\n",
      "tensor(0)\n",
      "tensor(0)\n",
      "tensor(0)\n",
      "tensor(0)\n",
      "tensor(0)\n",
      "tensor(0)\n",
      "tensor(0)\n",
      "tensor(0)\n",
      "tensor(0)\n"
     ]
    },
    {
     "data": {
      "text/plain": [
       "Text(0.5, 1.0, 'Lipschitz Ratios for Each Layer')"
      ]
     },
     "execution_count": 18,
     "metadata": {},
     "output_type": "execute_result"
    },
    {
     "data": {
      "image/png": "[encoded data removed]",
      "text/plain": [
       "<Figure size 640x480 with 1 Axes>"
      ]
     },
     "metadata": {},
     "output_type": "display_data"
    }
   ],
   "source": [
    "# For each layer of the model, we are going to take the embedding of the 0th element (flattened)\n",
    "# Then, we are going to compute its distance from the 10th, 20th, 30th, etc. elements\n",
    "# We will then plot this distance as a function of the layer number\n",
    "# Plot all of this on a single plot, where each line is labelled by \"x + y = z\", but instead of x and y, it will be the corresponding values from str_problems\n",
    "num_layers = 33\n",
    "layer_activations_0 = get_layer_activations(internal_reps, 0)\n",
    "num_examples, num_tokens, token_dim = layer_activations_0.shape\n",
    "distances = torch.zeros((num_layers, num_examples, num_examples))\n",
    "for layer_num in range(num_layers):\n",
    "        layer_activations = get_layer_activations(internal_reps, layer_num)\n",
    "\n",
    "        # Flatten the last two dimensions\n",
    "        num_examples, num_tokens, token_dim = layer_activations.shape\n",
    "        flattened_reps = layer_activations.reshape(num_examples, num_tokens * token_dim)\n",
    "\n",
    "        # normalize flattened_reps\n",
    "        # flattened_reps = F.normalize(flattened_reps, p=2, dim=1)\n",
    "\n",
    "        # Compute the pairwise distance between each pair of examples\n",
    "        distances[layer_num] = (flattened_reps[:, None, :] - flattened_reps[None, :, :]).norm(p=2, dim=-1)\n",
    "        \n",
    "# Compute Lipschitz ratios for each layer_i -> layer_i+1\n",
    "# Compute Lipschitz ratios for each layer_i -> layer_i+1\n",
    "lipschitz_ratio_mean = []\n",
    "lipschitz_ration_std = []\n",
    "for i in range(num_layers - 1):\n",
    "    dist_ratio = distances[i+1] / (distances[i]+1e-6)\n",
    "    dist_ratio[torch.diag(torch.ones(num_examples)).bool()] = 0\n",
    "    lipschitz_ratio_mean += [torch.mean(dist_ratio).item()]\n",
    "    lipschitz_ration_std += [torch.std(dist_ratio).item()]\n",
    "    print(torch.sum(torch.tensor(lipschitz_ratio_mean)< 1.0))\n",
    "\n",
    "# Plot the Lipschitz ratio mean, then plot error as shaded region at 1, 2 standard deviations.\n",
    "plt.errorbar(range(1, num_layers), lipschitz_ratio_mean, yerr=[lipschitz_ration_std, lipschitz_ration_std], fmt='o')\n",
    "plt.xlabel('Layer')\n",
    "plt.ylabel('Lipschitz Ratio')\n",
    "plt.title('Lipschitz Ratios for Each Layer')\n"
   ]
  },
  {
   "cell_type": "code",
   "execution_count": null,
   "metadata": {},
   "outputs": [],
   "source": []
  }
 ],
 "metadata": {
  "kernelspec": {
   "display_name": "venv",
   "language": "python",
   "name": "python3"
  },
  "language_info": {
   "codemirror_mode": {
    "name": "ipython",
    "version": 3
   },
   "file_extension": ".py",
   "mimetype": "text/x-python",
   "name": "python",
   "nbconvert_exporter": "python",
   "pygments_lexer": "ipython3",
   "version": "3.8.10"
  }
 },
 "nbformat": 4,
 "nbformat_minor": 2
}
